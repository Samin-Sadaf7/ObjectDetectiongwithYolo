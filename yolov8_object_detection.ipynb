{
  "cells": [
    {
      "cell_type": "markdown",
      "metadata": {
        "id": "view-in-github",
        "colab_type": "text"
      },
      "source": [
        "<a href=\"https://colab.research.google.com/github/Samin-Sadaf7/ObjectDetectiongwithYolo/blob/main/yolov8_object_detection.ipynb\" target=\"_parent\"><img src=\"https://colab.research.google.com/assets/colab-badge.svg\" alt=\"Open In Colab\"/></a>"
      ]
    },
    {
      "cell_type": "markdown",
      "metadata": {
        "id": "oe9vkEvFABbN"
      },
      "source": [
        "[![Roboflow Notebooks](https://media.roboflow.com/notebooks/template/bannertest2-2.png?ik-sdk-version=javascript-1.4.3&updatedAt=1672932710194)](https://github.com/roboflow/notebooks)\n",
        "\n",
        "# YOLOv8 Object Detection on a Dataset\n",
        "\n",
        "---\n",
        "\n",
        "[![Roboflow](https://raw.githubusercontent.com/roboflow-ai/notebooks/main/assets/badges/roboflow-blogpost.svg)](https://blog.roboflow.com/how-to-train-yolov8-on-a-custom-dataset)\n",
        "[![YouTube](https://badges.aleen42.com/src/youtube.svg)](https://youtu.be/wuZtUMEiKWY)\n",
        "[![GitHub](https://badges.aleen42.com/src/github.svg)](https://github.com/ultralytics/ultralytics)\n",
        "\n",
        "Ultralytics YOLOv8 is the latest version of the YOLO (You Only Look Once) object detection and image segmentation model developed by Ultralytics. The YOLOv8 model is designed to be fast, accurate, and easy to use, making it an excellent choice for a wide range of object detection and image segmentation tasks. It can be trained on large datasets and is capable of running on a variety of hardware platforms, from CPUs to GPUs.\n",
        "\n",
        "## ⚠️ Disclaimer\n",
        "\n",
        "YOLOv8 is still under heavy development. Breaking changes are being introduced almost weekly. We strive to make our YOLOv8 notebooks work with the latest version of the library. Last tests took place on **03.01.2024** with version **YOLOv8.0.196**.\n",
        "\n",
        "If you notice that our notebook behaves incorrectly - especially if you experience errors that prevent you from going through the tutorial - don't hesitate! Let us know and open an [issue](https://github.com/roboflow/notebooks/issues) on the Roboflow Notebooks repository.\n",
        "\n",
        "## Accompanying Blog Post\n",
        "\n",
        "We recommend that you follow along in this notebook while reading the blog post on how to train YOLOv8 Object Detection, concurrently.\n",
        "\n",
        "## Pro Tip: Use GPU Acceleration\n",
        "\n",
        "If you are running this notebook in Google Colab, navigate to `Edit` -> `Notebook settings` -> `Hardware accelerator`, set it to `GPU`, and then click `Save`. This will ensure your notebook uses a GPU, which will significantly speed up model training times.\n",
        "\n",
        "## Steps in this Tutorial\n",
        "\n",
        "In this tutorial, we are going to cover:\n",
        "\n",
        "- Before you start\n",
        "- Install YOLOv8\n",
        "- CLI Basics\n",
        "- Inference with Pre-trained COCO Model\n",
        "- Roboflow Universe\n",
        "- Preparing a custom dataset\n",
        "- Custom Training\n",
        "- Validate Custom Model\n",
        "- Inference with Custom Model\n",
        "\n",
        "**Let's begin!**"
      ]
    },
    {
      "cell_type": "markdown",
      "metadata": {
        "id": "FyRdDYkqAKN4"
      },
      "source": [
        "## Before you start\n",
        "\n",
        "Let's make sure that we have access to GPU. We can use `nvidia-smi` command to do that. In case of any problems navigate to `Edit` -> `Notebook settings` -> `Hardware accelerator`, set it to `GPU`, and then click `Save`."
      ]
    },
    {
      "cell_type": "code",
      "execution_count": null,
      "metadata": {
        "colab": {
          "base_uri": "https://localhost:8080/"
        },
        "id": "Y8cDtxLIBHgQ",
        "outputId": "c0abfc4c-5b95-4ef8-8f54-f696b922b345"
      },
      "outputs": [
        {
          "name": "stdout",
          "output_type": "stream",
          "text": [
            "/bin/bash: line 1: nvidia-smi: command not found\n"
          ]
        }
      ],
      "source": [
        "!nvidia-smi"
      ]
    },
    {
      "cell_type": "code",
      "execution_count": null,
      "metadata": {
        "colab": {
          "base_uri": "https://localhost:8080/"
        },
        "id": "CjpPg4mGKc1v",
        "outputId": "a2208579-8075-4be7-8d89-0f20e23563ba"
      },
      "outputs": [
        {
          "name": "stdout",
          "output_type": "stream",
          "text": [
            "/content\n"
          ]
        }
      ],
      "source": [
        "import os\n",
        "HOME = os.getcwd()\n",
        "print(HOME)"
      ]
    },
    {
      "cell_type": "markdown",
      "metadata": {
        "id": "3C3EO_2zNChu"
      },
      "source": [
        "## Install YOLOv8\n",
        "\n",
        "⚠️ YOLOv8 is still under heavy development. Breaking changes are being introduced almost weekly. We strive to make our YOLOv8 notebooks work with the latest version of the library. Last tests took place on **03.01.2024** with version **YOLOv8.0.196**.\n",
        "\n",
        "If you notice that our notebook behaves incorrectly - especially if you experience errors that prevent you from going through the tutorial - don't hesitate! Let us know and open an [issue](https://github.com/roboflow/notebooks/issues) on the Roboflow Notebooks repository.\n",
        "\n",
        "YOLOv8 can be installed in two ways - from the source and via pip. This is because it is the first iteration of YOLO to have an official package."
      ]
    },
    {
      "cell_type": "code",
      "execution_count": null,
      "metadata": {
        "colab": {
          "base_uri": "https://localhost:8080/"
        },
        "id": "tdSMcABDNKW-",
        "outputId": "db05014c-8dbb-499a-ceae-3586b849e753"
      },
      "outputs": [
        {
          "name": "stderr",
          "output_type": "stream",
          "text": [
            "Ultralytics YOLOv8.0.196 🚀 Python-3.10.12 torch-2.2.1+cu121 CPU (Intel Xeon 2.20GHz)\n",
            "Setup complete ✅ (2 CPUs, 12.7 GB RAM, 29.0/107.7 GB disk)\n"
          ]
        }
      ],
      "source": [
        "# Pip install method (recommended)\n",
        "\n",
        "!pip install ultralytics==8.0.196\n",
        "\n",
        "from IPython import display\n",
        "display.clear_output()\n",
        "\n",
        "import ultralytics\n",
        "ultralytics.checks()"
      ]
    },
    {
      "cell_type": "code",
      "execution_count": null,
      "metadata": {
        "id": "iVvaIYEEPOty"
      },
      "outputs": [],
      "source": [
        "# Git clone method (for development)\n",
        "\n",
        "# %cd {HOME}\n",
        "# !git clone github.com/ultralytics/ultralytics\n",
        "# %cd {HOME}/ultralytics\n",
        "# !pip install -e .\n",
        "\n",
        "# from IPython import display\n",
        "# display.clear_output()\n",
        "\n",
        "# import ultralytics\n",
        "# ultralytics.checks()"
      ]
    },
    {
      "cell_type": "code",
      "execution_count": null,
      "metadata": {
        "id": "VOEYrlBoP9-E"
      },
      "outputs": [],
      "source": [
        "from ultralytics import YOLO\n",
        "\n",
        "from IPython.display import display, Image"
      ]
    },
    {
      "cell_type": "code",
      "execution_count": null,
      "metadata": {
        "colab": {
          "base_uri": "https://localhost:8080/"
        },
        "id": "LymRvd2MDINe",
        "outputId": "91c43378-13cd-42a1-f325-ad10c57a55f6"
      },
      "outputs": [
        {
          "name": "stdout",
          "output_type": "stream",
          "text": [
            "Mounted at /content/drive\n"
          ]
        }
      ],
      "source": [
        "from google.colab import drive\n",
        "drive.mount('/content/drive')"
      ]
    },
    {
      "cell_type": "markdown",
      "metadata": {
        "id": "HnnZSm5OQfPQ"
      },
      "source": [
        "## CLI Basics"
      ]
    },
    {
      "cell_type": "markdown",
      "metadata": {
        "id": "K33S7zlkQku0"
      },
      "source": [
        "If you want to train, validate or run inference on models and don't need to make any modifications to the code, using YOLO command line interface is the easiest way to get started. Read more about CLI in [Ultralytics YOLO Docs](https://docs.ultralytics.com/usage/cli/).\n",
        "\n",
        "```\n",
        "yolo task=detect    mode=train    model=yolov8n.yaml      args...\n",
        "          classify       predict        yolov8n-cls.yaml  args...\n",
        "          segment        val            yolov8n-seg.yaml  args...\n",
        "                         export         yolov8n.pt        format=onnx  args...\n",
        "```"
      ]
    },
    {
      "cell_type": "markdown",
      "metadata": {
        "id": "s5RGYA6sPgEd"
      },
      "source": [
        "## Inference with Pre-trained COCO Model"
      ]
    },
    {
      "cell_type": "markdown",
      "metadata": {
        "id": "fT1qD4toTTw0"
      },
      "source": [
        "### 💻 CLI"
      ]
    },
    {
      "cell_type": "markdown",
      "metadata": {
        "id": "ZaE1kLS8R4CV"
      },
      "source": [
        "`yolo mode=predict` runs YOLOv8 inference on a variety of sources, downloading models automatically from the latest YOLOv8 release, and saving results to `runs/predict`."
      ]
    },
    {
      "cell_type": "markdown",
      "metadata": {
        "id": "YUjFBKKqXa-u"
      },
      "source": [
        "## Training on Traffic Sign Detection Dataset"
      ]
    },
    {
      "cell_type": "code",
      "execution_count": null,
      "metadata": {
        "colab": {
          "base_uri": "https://localhost:8080/"
        },
        "id": "SfRdK5ZcLlMw",
        "outputId": "fa7d8ba7-76fa-455e-cbe3-ff3ff0b12627"
      },
      "outputs": [
        {
          "name": "stdout",
          "output_type": "stream",
          "text": [
            "/content\n"
          ]
        }
      ],
      "source": [
        "%cd /content/"
      ]
    },
    {
      "cell_type": "code",
      "execution_count": null,
      "metadata": {
        "id": "LWYmNmE1G6MM"
      },
      "outputs": [],
      "source": [
        "import os\n",
        "import shutil\n",
        "\n",
        "# Define paths\n",
        "xml_folder = 'label'\n",
        "img_folder = 'images'\n",
        "\n",
        "# Create folders if they don't exist\n",
        "os.makedirs(xml_folder, exist_ok=True)\n",
        "os.makedirs(img_folder, exist_ok=True)\n",
        "\n",
        "# Get a list of all XML files in the current directory\n",
        "xml_files = [file for file in os.listdir() if file.endswith('.xml')]\n",
        "\n",
        "# Get a list of all PNG files in the current directory\n",
        "png_files = [file for file in os.listdir() if file.endswith('.png')]\n",
        "\n",
        "# Move XML files to the 'label' folder\n",
        "for xml_file in xml_files:\n",
        "    shutil.move(xml_file, os.path.join(xml_folder, xml_file))\n",
        "\n",
        "# Move PNG files to the 'images' folder\n",
        "for png_file in png_files:\n",
        "    shutil.move(png_file, os.path.join(img_folder, png_file))"
      ]
    },
    {
      "cell_type": "code",
      "execution_count": null,
      "metadata": {
        "id": "pPcNxNgeJobQ"
      },
      "outputs": [],
      "source": [
        "import yaml\n",
        "\n",
        "# Define the data\n",
        "data = {\n",
        "    'nc': 15,\n",
        "    'train': '/content/drive/MyDrive/Dataset- -Conference/train/',\n",
        "    'val': '/content/drive/MyDrive/Dataset- -Conference/val/',\n",
        "    'names': [\n",
        "        'SpeedLimit60kmh',\n",
        "        'School',\n",
        "        'PEDESTRIANCROSSING',\n",
        "        'SharpBendToTheLeft',\n",
        "        'UTurn',\n",
        "        'speedlimit80kmh',\n",
        "        'NoOvertaking',\n",
        "        'SharpBendToTheRight',\n",
        "        'SideRoadLeft',\n",
        "        'SideRoadRight',\n",
        "        'speedlimit40kmh',\n",
        "        'NarrowBridge',\n",
        "        'RoadHump',\n",
        "        'nouseofhorn',\n",
        "        'Crossroads'\n",
        "    ]\n",
        "}\n",
        "\n",
        "# Write the data to conference.yml\n",
        "with open('conference.yml', 'w') as yaml_file:\n",
        "    yaml.dump(data, yaml_file)\n"
      ]
    },
    {
      "cell_type": "code",
      "execution_count": null,
      "metadata": {
        "id": "FDIR8eS4Vqd1"
      },
      "outputs": [],
      "source": [
        "import xml.etree.ElementTree as ET\n",
        "import os\n",
        "\n",
        "# Class names\n",
        "class_names =[\n",
        "        'SpeedLimit60kmh',\n",
        "        'School',\n",
        "        'PEDESTRIANCROSSING',\n",
        "        'SharpBendToTheLeft',\n",
        "        'UTurn',\n",
        "        'speedlimit80kmh',\n",
        "        'NoOvertaking',\n",
        "        'SharpBendToTheRight',\n",
        "        'SideRoadLeft',\n",
        "        'SideRoadRight',\n",
        "        'speedlimit40kmh',\n",
        "        'NarrowBridge',\n",
        "        'RoadHump',\n",
        "        'nouseofhorn',\n",
        "        'Crossroads'\n",
        "    ]\n",
        "\n",
        "# Create class dictionary\n",
        "class_dict = {class_name: i for i, class_name in enumerate(class_names)}\n",
        "\n",
        "def xml_to_yolo(xml_file, class_dict):\n",
        "    tree = ET.parse(xml_file)\n",
        "    root = tree.getroot()\n",
        "\n",
        "    image_size = root.find('size')\n",
        "    width = float(image_size.find('width').text)\n",
        "    height = float(image_size.find('height').text)\n",
        "\n",
        "    yolo_annotations = []\n",
        "    for obj in root.findall('object'):\n",
        "        class_name = obj.find('name').text.strip().replace(' ', '').replace('/', '')  # Remove spaces and '/'\n",
        "        class_id = class_dict.get(class_name)\n",
        "        if class_id is None:\n",
        "            print(f\"Warning: Class '{class_name}' not found in class dictionary.\")\n",
        "            continue\n",
        "\n",
        "        bbox = obj.find('bndbox')\n",
        "        xmin = float(bbox.find('xmin').text)\n",
        "        ymin = float(bbox.find('ymin').text)\n",
        "        xmax = float(bbox.find('xmax').text)\n",
        "        ymax = float(bbox.find('ymax').text)\n",
        "\n",
        "        # Calculate normalized coordinates\n",
        "        x_center = (xmin + xmax) / (2 * width)\n",
        "        y_center = (ymin + ymax) / (2 * height)\n",
        "        bbox_width = (xmax - xmin) / width\n",
        "        bbox_height = (ymax - ymin) / height\n",
        "\n",
        "        yolo_annotations.append(f\"{class_id} {x_center} {y_center} {bbox_width} {bbox_height}\")\n",
        "\n",
        "    return yolo_annotations\n",
        "\n",
        "\n",
        "def convert_annotations(xml_dir, output_dir, class_dict):\n",
        "    os.makedirs(output_dir, exist_ok=True)\n",
        "\n",
        "    for xml_file in os.listdir(xml_dir):\n",
        "        if xml_file.endswith('.xml'):\n",
        "            img_id = os.path.splitext(xml_file)[0]\n",
        "            yolo_annotations = xml_to_yolo(os.path.join(xml_dir, xml_file), class_dict)\n",
        "            with open(os.path.join(output_dir, f\"{img_id}.txt\"), 'w') as f:\n",
        "                f.write('\\n'.join(yolo_annotations))\n",
        "\n",
        "# Paths\n",
        "xml_dir = '/content/drive/MyDrive/Dataset- -Conference/train/labels1'\n",
        "output_dir = '/content/drive/MyDrive/Dataset- -Conference/train/labels'\n",
        "\n",
        "# Convert annotations\n",
        "convert_annotations(xml_dir, output_dir, class_dict)\n"
      ]
    },
    {
      "cell_type": "code",
      "source": [
        "# train label Paths\n",
        "xml_dir = '/content/drive/MyDrive/Dataset- -Conference/train/labels1'\n",
        "output_dir = '/content/drive/MyDrive/Dataset- -Conference/train/labels'\n",
        "\n",
        "# Convert annotations\n",
        "convert_annotations(xml_dir, output_dir, class_dict)"
      ],
      "metadata": {
        "id": "ulI-MZ0YfJ3o"
      },
      "execution_count": null,
      "outputs": []
    },
    {
      "cell_type": "code",
      "source": [
        "# valid test Paths\n",
        "xml_dir = '/content/drive/MyDrive/Dataset- -Conference/val/labels1'\n",
        "output_dir = '/content/drive/MyDrive/Dataset- -Conference/val/labels'\n",
        "\n",
        "# Convert annotations\n",
        "convert_annotations(xml_dir, output_dir, class_dict)"
      ],
      "metadata": {
        "id": "90HvkLOafZEf"
      },
      "execution_count": null,
      "outputs": []
    },
    {
      "cell_type": "code",
      "execution_count": 20,
      "metadata": {
        "colab": {
          "base_uri": "https://localhost:8080/"
        },
        "id": "IBqn-3uoFFEh",
        "outputId": "359568ca-4aae-4574-9146-65d58189532f"
      },
      "outputs": [
        {
          "output_type": "stream",
          "name": "stderr",
          "text": [
            "New https://pypi.org/project/ultralytics/8.2.2 available 😃 Update with 'pip install -U ultralytics'\n",
            "Ultralytics YOLOv8.0.196 🚀 Python-3.10.12 torch-2.2.1+cu121 CPU (Intel Xeon 2.20GHz)\n",
            "\u001b[34m\u001b[1mengine/trainer: \u001b[0mtask=detect, mode=train, model=yolov8n.pt, data=/content/conference.yml, epochs=10, patience=50, batch=16, imgsz=640, save=True, save_period=-1, cache=False, device=None, workers=8, project=None, name=None, exist_ok=False, pretrained=True, optimizer=auto, verbose=True, seed=0, deterministic=True, single_cls=False, rect=False, cos_lr=False, close_mosaic=10, resume=False, amp=True, fraction=1.0, profile=False, freeze=None, overlap_mask=True, mask_ratio=4, dropout=0.0, val=True, split=val, save_json=False, save_hybrid=False, conf=None, iou=0.7, max_det=300, half=False, dnn=False, plots=True, source=None, show=False, save_txt=False, save_conf=False, save_crop=False, show_labels=True, show_conf=True, vid_stride=1, stream_buffer=False, line_width=None, visualize=False, augment=False, agnostic_nms=False, classes=None, retina_masks=False, boxes=True, format=torchscript, keras=False, optimize=False, int8=False, dynamic=False, simplify=False, opset=None, workspace=4, nms=False, lr0=0.01, lrf=0.01, momentum=0.937, weight_decay=0.0005, warmup_epochs=3.0, warmup_momentum=0.8, warmup_bias_lr=0.1, box=7.5, cls=0.5, dfl=1.5, pose=12.0, kobj=1.0, label_smoothing=0.0, nbs=64, hsv_h=0.015, hsv_s=0.7, hsv_v=0.4, degrees=0.0, translate=0.1, scale=0.5, shear=0.0, perspective=0.0, flipud=0.0, fliplr=0.5, mosaic=1.0, mixup=0.0, copy_paste=0.0, cfg=None, tracker=botsort.yaml, save_dir=runs/detect/train4\n",
            "Overriding model.yaml nc=80 with nc=15\n",
            "\n",
            "                   from  n    params  module                                       arguments                     \n",
            "  0                  -1  1       464  ultralytics.nn.modules.conv.Conv             [3, 16, 3, 2]                 \n",
            "  1                  -1  1      4672  ultralytics.nn.modules.conv.Conv             [16, 32, 3, 2]                \n",
            "  2                  -1  1      7360  ultralytics.nn.modules.block.C2f             [32, 32, 1, True]             \n",
            "  3                  -1  1     18560  ultralytics.nn.modules.conv.Conv             [32, 64, 3, 2]                \n",
            "  4                  -1  2     49664  ultralytics.nn.modules.block.C2f             [64, 64, 2, True]             \n",
            "  5                  -1  1     73984  ultralytics.nn.modules.conv.Conv             [64, 128, 3, 2]               \n",
            "  6                  -1  2    197632  ultralytics.nn.modules.block.C2f             [128, 128, 2, True]           \n",
            "  7                  -1  1    295424  ultralytics.nn.modules.conv.Conv             [128, 256, 3, 2]              \n",
            "  8                  -1  1    460288  ultralytics.nn.modules.block.C2f             [256, 256, 1, True]           \n",
            "  9                  -1  1    164608  ultralytics.nn.modules.block.SPPF            [256, 256, 5]                 \n",
            " 10                  -1  1         0  torch.nn.modules.upsampling.Upsample         [None, 2, 'nearest']          \n",
            " 11             [-1, 6]  1         0  ultralytics.nn.modules.conv.Concat           [1]                           \n",
            " 12                  -1  1    148224  ultralytics.nn.modules.block.C2f             [384, 128, 1]                 \n",
            " 13                  -1  1         0  torch.nn.modules.upsampling.Upsample         [None, 2, 'nearest']          \n",
            " 14             [-1, 4]  1         0  ultralytics.nn.modules.conv.Concat           [1]                           \n",
            " 15                  -1  1     37248  ultralytics.nn.modules.block.C2f             [192, 64, 1]                  \n",
            " 16                  -1  1     36992  ultralytics.nn.modules.conv.Conv             [64, 64, 3, 2]                \n",
            " 17            [-1, 12]  1         0  ultralytics.nn.modules.conv.Concat           [1]                           \n",
            " 18                  -1  1    123648  ultralytics.nn.modules.block.C2f             [192, 128, 1]                 \n",
            " 19                  -1  1    147712  ultralytics.nn.modules.conv.Conv             [128, 128, 3, 2]              \n",
            " 20             [-1, 9]  1         0  ultralytics.nn.modules.conv.Concat           [1]                           \n",
            " 21                  -1  1    493056  ultralytics.nn.modules.block.C2f             [384, 256, 1]                 \n",
            " 22        [15, 18, 21]  1    754237  ultralytics.nn.modules.head.Detect           [15, [64, 128, 256]]          \n",
            "Model summary: 225 layers, 3013773 parameters, 3013757 gradients, 8.2 GFLOPs\n",
            "\n",
            "Transferred 319/355 items from pretrained weights\n",
            "\u001b[34m\u001b[1mTensorBoard: \u001b[0mStart with 'tensorboard --logdir runs/detect/train4', view at http://localhost:6006/\n",
            "Freezing layer 'model.22.dfl.conv.weight'\n",
            "\u001b[34m\u001b[1mtrain: \u001b[0mScanning /content/drive/MyDrive/Dataset- -Conference/train/labels.cache... 687 images, 19 backgrounds, 0 corrupt: 100%|██████████| 706/706 [00:00<?, ?it/s]\n",
            "\u001b[34m\u001b[1malbumentations: \u001b[0mBlur(p=0.01, blur_limit=(3, 7)), MedianBlur(p=0.01, blur_limit=(3, 7)), ToGray(p=0.01), CLAHE(p=0.01, clip_limit=(1, 4.0), tile_grid_size=(8, 8))\n",
            "\u001b[34m\u001b[1mval: \u001b[0mScanning /content/drive/MyDrive/Dataset- -Conference/val/labels.cache... 243 images, 8 backgrounds, 0 corrupt: 100%|██████████| 251/251 [00:00<?, ?it/s]\n",
            "Plotting labels to runs/detect/train4/labels.jpg... \n",
            "\u001b[34m\u001b[1moptimizer:\u001b[0m 'optimizer=auto' found, ignoring 'lr0=0.01' and 'momentum=0.937' and determining best 'optimizer', 'lr0' and 'momentum' automatically... \n",
            "\u001b[34m\u001b[1moptimizer:\u001b[0m AdamW(lr=0.000526, momentum=0.9) with parameter groups 57 weight(decay=0.0), 64 weight(decay=0.0005), 63 bias(decay=0.0)\n",
            "Image sizes 640 train, 640 val\n",
            "Using 0 dataloader workers\n",
            "Logging results to \u001b[1mruns/detect/train4\u001b[0m\n",
            "Starting training for 10 epochs...\n",
            "Closing dataloader mosaic\n",
            "\u001b[34m\u001b[1malbumentations: \u001b[0mBlur(p=0.01, blur_limit=(3, 7)), MedianBlur(p=0.01, blur_limit=(3, 7)), ToGray(p=0.01), CLAHE(p=0.01, clip_limit=(1, 4.0), tile_grid_size=(8, 8))\n",
            "\n",
            "      Epoch    GPU_mem   box_loss   cls_loss   dfl_loss  Instances       Size\n",
            "       1/10         0G      1.422      6.905      1.005          2        640: 100%|██████████| 45/45 [10:27<00:00, 13.94s/it]\n",
            "                 Class     Images  Instances      Box(P          R      mAP50  mAP50-95): 100%|██████████| 8/8 [00:55<00:00,  6.89s/it]\n",
            "                   all        251        263     0.0131      0.123     0.0266     0.0186\n",
            "\n",
            "      Epoch    GPU_mem   box_loss   cls_loss   dfl_loss  Instances       Size\n",
            "       2/10         0G      1.425      5.469     0.9689          3        640: 100%|██████████| 45/45 [09:49<00:00, 13.10s/it]\n",
            "                 Class     Images  Instances      Box(P          R      mAP50  mAP50-95): 100%|██████████| 8/8 [00:54<00:00,  6.86s/it]\n",
            "                   all        251        263     0.0065      0.518     0.0884     0.0573\n",
            "\n",
            "      Epoch    GPU_mem   box_loss   cls_loss   dfl_loss  Instances       Size\n",
            "       3/10         0G      1.307      4.789     0.9689          1        640: 100%|██████████| 45/45 [09:45<00:00, 13.01s/it]\n",
            "                 Class     Images  Instances      Box(P          R      mAP50  mAP50-95): 100%|██████████| 8/8 [00:56<00:00,  7.02s/it]\n",
            "                   all        251        263      0.564      0.209      0.108     0.0693\n",
            "\n",
            "      Epoch    GPU_mem   box_loss   cls_loss   dfl_loss  Instances       Size\n",
            "       4/10         0G      1.235      4.217     0.9417          2        640: 100%|██████████| 45/45 [09:42<00:00, 12.93s/it]\n",
            "                 Class     Images  Instances      Box(P          R      mAP50  mAP50-95): 100%|██████████| 8/8 [00:59<00:00,  7.42s/it]\n",
            "                   all        251        263       0.45      0.232      0.152     0.0962\n",
            "\n",
            "      Epoch    GPU_mem   box_loss   cls_loss   dfl_loss  Instances       Size\n",
            "       5/10         0G      1.216      3.759     0.9282          2        640: 100%|██████████| 45/45 [09:40<00:00, 12.89s/it]\n",
            "                 Class     Images  Instances      Box(P          R      mAP50  mAP50-95): 100%|██████████| 8/8 [00:59<00:00,  7.48s/it]\n",
            "                   all        251        263      0.448      0.298      0.237      0.157\n",
            "\n",
            "      Epoch    GPU_mem   box_loss   cls_loss   dfl_loss  Instances       Size\n",
            "       6/10         0G      1.181      3.545     0.9293          2        640: 100%|██████████| 45/45 [09:42<00:00, 12.94s/it]\n",
            "                 Class     Images  Instances      Box(P          R      mAP50  mAP50-95): 100%|██████████| 8/8 [00:55<00:00,  6.91s/it]\n",
            "                   all        251        263      0.602      0.246      0.274       0.18\n",
            "\n",
            "      Epoch    GPU_mem   box_loss   cls_loss   dfl_loss  Instances       Size\n",
            "       7/10         0G       1.18      3.241      0.939          2        640: 100%|██████████| 45/45 [09:50<00:00, 13.13s/it]\n",
            "                 Class     Images  Instances      Box(P          R      mAP50  mAP50-95): 100%|██████████| 8/8 [00:57<00:00,  7.17s/it]\n",
            "                   all        251        263      0.498       0.31      0.315      0.209\n",
            "\n",
            "      Epoch    GPU_mem   box_loss   cls_loss   dfl_loss  Instances       Size\n",
            "       8/10         0G      1.093      2.886     0.9005          2        640: 100%|██████████| 45/45 [09:45<00:00, 13.01s/it]\n",
            "                 Class     Images  Instances      Box(P          R      mAP50  mAP50-95): 100%|██████████| 8/8 [01:00<00:00,  7.50s/it]\n",
            "                   all        251        263      0.457      0.373      0.324      0.224\n",
            "\n",
            "      Epoch    GPU_mem   box_loss   cls_loss   dfl_loss  Instances       Size\n",
            "       9/10         0G      1.065      2.843     0.9042          2        640: 100%|██████████| 45/45 [09:45<00:00, 13.00s/it]\n",
            "                 Class     Images  Instances      Box(P          R      mAP50  mAP50-95): 100%|██████████| 8/8 [00:54<00:00,  6.77s/it]\n",
            "                   all        251        263      0.531      0.331      0.354      0.245\n",
            "\n",
            "      Epoch    GPU_mem   box_loss   cls_loss   dfl_loss  Instances       Size\n",
            "      10/10         0G      1.021       2.55     0.8925          2        640: 100%|██████████| 45/45 [09:43<00:00, 12.97s/it]\n",
            "                 Class     Images  Instances      Box(P          R      mAP50  mAP50-95): 100%|██████████| 8/8 [00:54<00:00,  6.81s/it]\n",
            "                   all        251        263      0.567      0.352      0.386      0.275\n",
            "\n",
            "10 epochs completed in 1.798 hours.\n",
            "Optimizer stripped from runs/detect/train4/weights/last.pt, 6.2MB\n",
            "Optimizer stripped from runs/detect/train4/weights/best.pt, 6.2MB\n",
            "\n",
            "Validating runs/detect/train4/weights/best.pt...\n",
            "Ultralytics YOLOv8.0.196 🚀 Python-3.10.12 torch-2.2.1+cu121 CPU (Intel Xeon 2.20GHz)\n",
            "Model summary (fused): 168 layers, 3008573 parameters, 0 gradients, 8.1 GFLOPs\n",
            "                 Class     Images  Instances      Box(P          R      mAP50  mAP50-95): 100%|██████████| 8/8 [00:50<00:00,  6.33s/it]\n",
            "                   all        251        263      0.567      0.352      0.387      0.275\n",
            "       SpeedLimit60kmh        251          9      0.657          1      0.975      0.673\n",
            "                School        251         26      0.607      0.577      0.575      0.413\n",
            "    PEDESTRIANCROSSING        251         41          1          0     0.0743     0.0496\n",
            "    SharpBendToTheLeft        251         26      0.353      0.308      0.372      0.274\n",
            "                 UTurn        251          9          0          0          0          0\n",
            "       speedlimit80kmh        251         11      0.482      0.763      0.668      0.434\n",
            "          NoOvertaking        251         28          1          0      0.259      0.181\n",
            "   SharpBendToTheRight        251         10      0.514        0.3      0.301      0.203\n",
            "          SideRoadLeft        251         15          1          0     0.0842     0.0552\n",
            "         SideRoadRight        251         15          0          0          0          0\n",
            "       speedlimit40kmh        251         28      0.682       0.69      0.741      0.555\n",
            "          NarrowBridge        251          6       0.42      0.833      0.623      0.462\n",
            "              RoadHump        251         19      0.814      0.684      0.798       0.57\n",
            "           nouseofhorn        251          8      0.983      0.125      0.206       0.16\n",
            "            Crossroads        251         12          0          0      0.124     0.0914\n",
            "Speed: 1.5ms preprocess, 145.9ms inference, 0.0ms loss, 0.6ms postprocess per image\n",
            "Results saved to \u001b[1mruns/detect/train4\u001b[0m\n"
          ]
        }
      ],
      "source": [
        "from ultralytics import YOLO\n",
        "\n",
        "# Load a model\n",
        "model = YOLO()  # build a new model from scratch\n",
        "# Train the model\n",
        "results = model.train(data='/content/conference.yml', epochs=10)"
      ]
    },
    {
      "cell_type": "code",
      "source": [
        "# Define paths\n",
        "import shutil\n",
        "source_folder = '/content/runs'\n",
        "destination_folder = '/content/drive/MyDrive/Dataset- -Conference/runs'  # Path to the destination folder\n",
        "# Copy the folder and its contents to the destination\n",
        "shutil.copytree(source_folder, destination_folder)"
      ],
      "metadata": {
        "colab": {
          "base_uri": "https://localhost:8080/",
          "height": 35
        },
        "id": "PsvXzL_v4L_j",
        "outputId": "f58280ba-6ff5-4752-b3df-e9c3eb9b0e15"
      },
      "execution_count": 24,
      "outputs": [
        {
          "output_type": "execute_result",
          "data": {
            "text/plain": [
              "'/content/drive/MyDrive/Dataset- -Conference/runs'"
            ],
            "application/vnd.google.colaboratory.intrinsic+json": {
              "type": "string"
            }
          },
          "metadata": {},
          "execution_count": 24
        }
      ]
    },
    {
      "cell_type": "code",
      "source": [
        "from ultralytics import YOLO\n",
        "!yolo task=detect mode=val model='/content/runs/detect/train4/weights/best.pt' data=conference.yml"
      ],
      "metadata": {
        "colab": {
          "base_uri": "https://localhost:8080/"
        },
        "id": "7zlHLeiv5Jd8",
        "outputId": "299b74a9-4b1e-4da2-de5b-bdcb2929826b"
      },
      "execution_count": 25,
      "outputs": [
        {
          "output_type": "stream",
          "name": "stdout",
          "text": [
            "Ultralytics YOLOv8.0.196 🚀 Python-3.10.12 torch-2.2.1+cu121 CPU (Intel Xeon 2.20GHz)\n",
            "Model summary (fused): 168 layers, 3008573 parameters, 0 gradients, 8.1 GFLOPs\n",
            "\u001b[34m\u001b[1mval: \u001b[0mScanning /content/drive/MyDrive/Dataset- -Conference/val/labels.cache... 243 images, 8 backgrounds, 0 corrupt: 100% 251/251 [00:00<?, ?it/s]\n",
            "                 Class     Images  Instances      Box(P          R      mAP50  mAP50-95): 100% 16/16 [00:57<00:00,  3.62s/it]\n",
            "                   all        251        263      0.573      0.353      0.388      0.276\n",
            "       SpeedLimit60kmh        251          9      0.663          1      0.949       0.65\n",
            "                School        251         26      0.667      0.577      0.619       0.45\n",
            "    PEDESTRIANCROSSING        251         41          1          0     0.0737     0.0493\n",
            "    SharpBendToTheLeft        251         26      0.349      0.308      0.374      0.275\n",
            "                 UTurn        251          9          0          0          0          0\n",
            "       speedlimit80kmh        251         11      0.483      0.766      0.668      0.434\n",
            "          NoOvertaking        251         28          1          0      0.259      0.181\n",
            "   SharpBendToTheRight        251         10      0.511        0.3      0.301      0.203\n",
            "          SideRoadLeft        251         15          1          0      0.089     0.0586\n",
            "         SideRoadRight        251         15          0          0          0          0\n",
            "       speedlimit40kmh        251         28      0.685      0.698      0.743      0.555\n",
            "          NarrowBridge        251          6      0.454      0.833      0.623      0.462\n",
            "              RoadHump        251         19      0.813      0.685      0.798      0.569\n",
            "           nouseofhorn        251          8      0.977      0.125      0.206       0.16\n",
            "            Crossroads        251         12          0          0      0.123     0.0906\n",
            "Speed: 4.6ms preprocess, 167.3ms inference, 0.0ms loss, 0.5ms postprocess per image\n",
            "Results saved to \u001b[1mruns/detect/val\u001b[0m\n",
            "💡 Learn more at https://docs.ultralytics.com/modes/val\n"
          ]
        }
      ]
    },
    {
      "cell_type": "code",
      "source": [
        "# Define paths\n",
        "import shutil\n",
        "source_folder = '/content/runs/detect/val'\n",
        "destination_folder = '/content/drive/MyDrive/Dataset- -Conference/runs/detect/val'  # Path to the destination folder\n",
        "# Copy the folder and its contents to the destination\n",
        "shutil.copytree(source_folder, destination_folder)"
      ],
      "metadata": {
        "colab": {
          "base_uri": "https://localhost:8080/",
          "height": 35
        },
        "id": "f43IPtZi6x2J",
        "outputId": "3ba93db5-ddce-424f-e654-65db6f4e8ae9"
      },
      "execution_count": 26,
      "outputs": [
        {
          "output_type": "execute_result",
          "data": {
            "text/plain": [
              "'/content/drive/MyDrive/Dataset- -Conference/runs/detect/val'"
            ],
            "application/vnd.google.colaboratory.intrinsic+json": {
              "type": "string"
            }
          },
          "metadata": {},
          "execution_count": 26
        }
      ]
    },
    {
      "cell_type": "code",
      "source": [
        "# Run on test set for prediction\n",
        "!yolo task=detect mode=predict model='/content/runs/detect/train4/weights/best.pt' conf=0.25 source='/content/drive/MyDrive/Dataset- -Conference/test/images'"
      ],
      "metadata": {
        "colab": {
          "base_uri": "https://localhost:8080/"
        },
        "id": "II87qmJ07kfp",
        "outputId": "8e5394f8-c6bb-4983-ee3f-40d3c9d2f33f"
      },
      "execution_count": 27,
      "outputs": [
        {
          "output_type": "stream",
          "name": "stdout",
          "text": [
            "Ultralytics YOLOv8.0.196 🚀 Python-3.10.12 torch-2.2.1+cu121 CPU (Intel Xeon 2.20GHz)\n",
            "Model summary (fused): 168 layers, 3008573 parameters, 0 gradients, 8.1 GFLOPs\n",
            "\n",
            "image 1/451 /content/drive/MyDrive/Dataset- -Conference/test/images/V0029_0.png: 640x384 1 School, 192.0ms\n",
            "image 2/451 /content/drive/MyDrive/Dataset- -Conference/test/images/V0029_13.png: 640x384 1 School, 136.1ms\n",
            "image 3/451 /content/drive/MyDrive/Dataset- -Conference/test/images/V0029_17.png: 640x384 (no detections), 127.7ms\n",
            "image 4/451 /content/drive/MyDrive/Dataset- -Conference/test/images/V0029_9.png: 640x384 1 School, 123.0ms\n",
            "image 5/451 /content/drive/MyDrive/Dataset- -Conference/test/images/V0072_220.png: 640x384 1 SharpBendToTheLeft, 142.5ms\n",
            "image 6/451 /content/drive/MyDrive/Dataset- -Conference/test/images/V0072_240.png: 640x384 (no detections), 354.4ms\n",
            "image 7/451 /content/drive/MyDrive/Dataset- -Conference/test/images/V0072_270.png: 640x384 (no detections), 132.9ms\n",
            "image 8/451 /content/drive/MyDrive/Dataset- -Conference/test/images/V0072_280.png: 640x384 (no detections), 227.7ms\n",
            "image 9/451 /content/drive/MyDrive/Dataset- -Conference/test/images/V0072_350.png: 640x384 1 SharpBendToTheLeft, 1 Crossroads, 152.9ms\n",
            "image 10/451 /content/drive/MyDrive/Dataset- -Conference/test/images/V0072_380.png: 640x384 1 NarrowBridge, 1 Crossroads, 282.2ms\n",
            "image 11/451 /content/drive/MyDrive/Dataset- -Conference/test/images/V0072_400.png: 640x384 1 NarrowBridge, 1 Crossroads, 139.2ms\n",
            "image 12/451 /content/drive/MyDrive/Dataset- -Conference/test/images/V0072_410.png: 640x384 1 NarrowBridge, 1 Crossroads, 706.0ms\n",
            "image 13/451 /content/drive/MyDrive/Dataset- -Conference/test/images/V0072_420.png: 640x384 1 NarrowBridge, 1 Crossroads, 423.6ms\n",
            "image 14/451 /content/drive/MyDrive/Dataset- -Conference/test/images/V0075_0.png: 384x640 1 School, 337.0ms\n",
            "image 15/451 /content/drive/MyDrive/Dataset- -Conference/test/images/V0075_100.png: 384x640 1 SharpBendToTheLeft, 1 Crossroads, 282.5ms\n",
            "image 16/451 /content/drive/MyDrive/Dataset- -Conference/test/images/V0075_110.png: 384x640 (no detections), 510.7ms\n",
            "image 17/451 /content/drive/MyDrive/Dataset- -Conference/test/images/V0075_120.png: 384x640 (no detections), 177.1ms\n",
            "image 18/451 /content/drive/MyDrive/Dataset- -Conference/test/images/V0075_130.png: 384x640 (no detections), 195.4ms\n",
            "image 19/451 /content/drive/MyDrive/Dataset- -Conference/test/images/V0075_140.png: 384x640 (no detections), 196.4ms\n",
            "image 20/451 /content/drive/MyDrive/Dataset- -Conference/test/images/V0075_150.png: 384x640 (no detections), 204.0ms\n",
            "image 21/451 /content/drive/MyDrive/Dataset- -Conference/test/images/V0075_170.png: 384x640 (no detections), 193.5ms\n",
            "image 22/451 /content/drive/MyDrive/Dataset- -Conference/test/images/V0075_20.png: 384x640 1 School, 204.3ms\n",
            "image 23/451 /content/drive/MyDrive/Dataset- -Conference/test/images/V0075_30.png: 384x640 (no detections), 190.8ms\n",
            "image 24/451 /content/drive/MyDrive/Dataset- -Conference/test/images/V0075_40.png: 384x640 (no detections), 129.0ms\n",
            "image 25/451 /content/drive/MyDrive/Dataset- -Conference/test/images/V0075_50.png: 384x640 (no detections), 117.2ms\n",
            "image 26/451 /content/drive/MyDrive/Dataset- -Conference/test/images/V0075_60.png: 384x640 (no detections), 133.0ms\n",
            "image 27/451 /content/drive/MyDrive/Dataset- -Conference/test/images/V0075_70.png: 384x640 (no detections), 123.6ms\n",
            "image 28/451 /content/drive/MyDrive/Dataset- -Conference/test/images/V0075_80.png: 384x640 1 SharpBendToTheLeft, 137.9ms\n",
            "image 29/451 /content/drive/MyDrive/Dataset- -Conference/test/images/V0075_90.png: 384x640 1 SharpBendToTheLeft, 128.2ms\n",
            "image 30/451 /content/drive/MyDrive/Dataset- -Conference/test/images/V0077_0.png: 384x640 (no detections), 136.4ms\n",
            "image 31/451 /content/drive/MyDrive/Dataset- -Conference/test/images/V0077_10.png: 384x640 (no detections), 123.1ms\n",
            "image 32/451 /content/drive/MyDrive/Dataset- -Conference/test/images/V0077_20.png: 384x640 (no detections), 125.9ms\n",
            "image 33/451 /content/drive/MyDrive/Dataset- -Conference/test/images/V0077_30.png: 384x640 (no detections), 135.5ms\n",
            "image 34/451 /content/drive/MyDrive/Dataset- -Conference/test/images/V0077_40.png: 384x640 (no detections), 117.4ms\n",
            "image 35/451 /content/drive/MyDrive/Dataset- -Conference/test/images/V0078_370.png: 384x640 (no detections), 121.1ms\n",
            "image 36/451 /content/drive/MyDrive/Dataset- -Conference/test/images/V0078_380.png: 384x640 1 School, 1 RoadHump, 129.8ms\n",
            "image 37/451 /content/drive/MyDrive/Dataset- -Conference/test/images/V0078_390.png: 384x640 1 RoadHump, 139.1ms\n",
            "image 38/451 /content/drive/MyDrive/Dataset- -Conference/test/images/V0079_0.png: 384x640 (no detections), 117.9ms\n",
            "image 39/451 /content/drive/MyDrive/Dataset- -Conference/test/images/V0079_20.png: 384x640 (no detections), 151.9ms\n",
            "image 40/451 /content/drive/MyDrive/Dataset- -Conference/test/images/V0079_40.png: 384x640 (no detections), 129.9ms\n",
            "image 41/451 /content/drive/MyDrive/Dataset- -Conference/test/images/V0079_50.png: 384x640 (no detections), 127.8ms\n",
            "image 42/451 /content/drive/MyDrive/Dataset- -Conference/test/images/V0079_580.png: 384x640 (no detections), 117.9ms\n",
            "image 43/451 /content/drive/MyDrive/Dataset- -Conference/test/images/V0079_590.png: 384x640 (no detections), 137.7ms\n",
            "image 44/451 /content/drive/MyDrive/Dataset- -Conference/test/images/V0079_60.png: 384x640 (no detections), 120.4ms\n",
            "image 45/451 /content/drive/MyDrive/Dataset- -Conference/test/images/V0079_600.png: 384x640 (no detections), 134.5ms\n",
            "image 46/451 /content/drive/MyDrive/Dataset- -Conference/test/images/V0079_610.png: 384x640 (no detections), 125.5ms\n",
            "image 47/451 /content/drive/MyDrive/Dataset- -Conference/test/images/V0079_620.png: 384x640 (no detections), 121.4ms\n",
            "image 48/451 /content/drive/MyDrive/Dataset- -Conference/test/images/V0079_640.png: 384x640 (no detections), 146.8ms\n",
            "image 49/451 /content/drive/MyDrive/Dataset- -Conference/test/images/V0079_650.png: 384x640 (no detections), 118.0ms\n",
            "image 50/451 /content/drive/MyDrive/Dataset- -Conference/test/images/V0079_660.png: 384x640 (no detections), 121.3ms\n",
            "image 51/451 /content/drive/MyDrive/Dataset- -Conference/test/images/V0079_670.png: 384x640 (no detections), 122.1ms\n",
            "image 52/451 /content/drive/MyDrive/Dataset- -Conference/test/images/V0079_680.png: 384x640 (no detections), 142.1ms\n",
            "image 53/451 /content/drive/MyDrive/Dataset- -Conference/test/images/V0079_690.png: 384x640 (no detections), 129.5ms\n",
            "image 54/451 /content/drive/MyDrive/Dataset- -Conference/test/images/V0079_70.png: 384x640 (no detections), 116.5ms\n",
            "image 55/451 /content/drive/MyDrive/Dataset- -Conference/test/images/V0079_700.png: 384x640 (no detections), 128.0ms\n",
            "image 56/451 /content/drive/MyDrive/Dataset- -Conference/test/images/V0079_710.png: 384x640 (no detections), 129.4ms\n",
            "image 57/451 /content/drive/MyDrive/Dataset- -Conference/test/images/V0079_720.png: 384x640 (no detections), 126.2ms\n",
            "image 58/451 /content/drive/MyDrive/Dataset- -Conference/test/images/V0079_730.png: 384x640 (no detections), 119.0ms\n",
            "image 59/451 /content/drive/MyDrive/Dataset- -Conference/test/images/V0079_740.png: 384x640 (no detections), 116.5ms\n",
            "image 60/451 /content/drive/MyDrive/Dataset- -Conference/test/images/V0079_750.png: 384x640 (no detections), 126.6ms\n",
            "image 61/451 /content/drive/MyDrive/Dataset- -Conference/test/images/V0079_760.png: 384x640 (no detections), 147.2ms\n",
            "image 62/451 /content/drive/MyDrive/Dataset- -Conference/test/images/V0079_770.png: 384x640 (no detections), 118.7ms\n",
            "image 63/451 /content/drive/MyDrive/Dataset- -Conference/test/images/V0079_790.png: 384x640 (no detections), 124.9ms\n",
            "image 64/451 /content/drive/MyDrive/Dataset- -Conference/test/images/V0079_800.png: 384x640 (no detections), 120.6ms\n",
            "image 65/451 /content/drive/MyDrive/Dataset- -Conference/test/images/V0086_120.png: 384x640 (no detections), 137.6ms\n",
            "image 66/451 /content/drive/MyDrive/Dataset- -Conference/test/images/V0086_130.png: 384x640 (no detections), 187.8ms\n",
            "image 67/451 /content/drive/MyDrive/Dataset- -Conference/test/images/V0086_140.png: 384x640 1 SharpBendToTheLeft, 188.0ms\n",
            "image 68/451 /content/drive/MyDrive/Dataset- -Conference/test/images/V0086_150.png: 384x640 1 SharpBendToTheLeft, 199.7ms\n",
            "image 69/451 /content/drive/MyDrive/Dataset- -Conference/test/images/V0087_100.png: 384x640 1 NarrowBridge, 176.5ms\n",
            "image 70/451 /content/drive/MyDrive/Dataset- -Conference/test/images/V0087_110.png: 384x640 1 NarrowBridge, 196.7ms\n",
            "image 71/451 /content/drive/MyDrive/Dataset- -Conference/test/images/V0087_20.png: 384x640 (no detections), 194.6ms\n",
            "image 72/451 /content/drive/MyDrive/Dataset- -Conference/test/images/V0087_30.png: 384x640 (no detections), 188.1ms\n",
            "image 73/451 /content/drive/MyDrive/Dataset- -Conference/test/images/V0087_40.png: 384x640 (no detections), 215.2ms\n",
            "image 74/451 /content/drive/MyDrive/Dataset- -Conference/test/images/V0087_50.png: 384x640 1 School, 200.0ms\n",
            "image 75/451 /content/drive/MyDrive/Dataset- -Conference/test/images/V0087_60.png: 384x640 (no detections), 196.8ms\n",
            "image 76/451 /content/drive/MyDrive/Dataset- -Conference/test/images/V0087_70.png: 384x640 1 NarrowBridge, 195.7ms\n",
            "image 77/451 /content/drive/MyDrive/Dataset- -Conference/test/images/V0087_80.png: 384x640 (no detections), 195.5ms\n",
            "image 78/451 /content/drive/MyDrive/Dataset- -Conference/test/images/V0087_90.png: 384x640 (no detections), 151.6ms\n",
            "image 79/451 /content/drive/MyDrive/Dataset- -Conference/test/images/V0090_0.png: 384x640 (no detections), 119.7ms\n",
            "image 80/451 /content/drive/MyDrive/Dataset- -Conference/test/images/V0090_10.png: 384x640 (no detections), 134.5ms\n",
            "image 81/451 /content/drive/MyDrive/Dataset- -Conference/test/images/V0090_100.png: 384x640 (no detections), 128.7ms\n",
            "image 82/451 /content/drive/MyDrive/Dataset- -Conference/test/images/V0090_120.png: 384x640 1 School, 129.3ms\n",
            "image 83/451 /content/drive/MyDrive/Dataset- -Conference/test/images/V0090_20.png: 384x640 (no detections), 122.4ms\n",
            "image 84/451 /content/drive/MyDrive/Dataset- -Conference/test/images/V0090_40.png: 384x640 (no detections), 124.5ms\n",
            "image 85/451 /content/drive/MyDrive/Dataset- -Conference/test/images/V0090_50.png: 384x640 1 School, 117.6ms\n",
            "image 86/451 /content/drive/MyDrive/Dataset- -Conference/test/images/V0090_60.png: 384x640 (no detections), 127.7ms\n",
            "image 87/451 /content/drive/MyDrive/Dataset- -Conference/test/images/V0090_70.png: 384x640 (no detections), 123.3ms\n",
            "image 88/451 /content/drive/MyDrive/Dataset- -Conference/test/images/V0090_80.png: 384x640 (no detections), 129.5ms\n",
            "image 89/451 /content/drive/MyDrive/Dataset- -Conference/test/images/V0090_90.png: 384x640 (no detections), 147.9ms\n",
            "image 90/451 /content/drive/MyDrive/Dataset- -Conference/test/images/V0093_0.png: 384x640 (no detections), 117.5ms\n",
            "image 91/451 /content/drive/MyDrive/Dataset- -Conference/test/images/V0093_10.png: 384x640 (no detections), 136.9ms\n",
            "image 92/451 /content/drive/MyDrive/Dataset- -Conference/test/images/V0093_100.png: 384x640 (no detections), 138.6ms\n",
            "image 93/451 /content/drive/MyDrive/Dataset- -Conference/test/images/V0093_110.png: 384x640 (no detections), 150.9ms\n",
            "image 94/451 /content/drive/MyDrive/Dataset- -Conference/test/images/V0093_120.png: 384x640 (no detections), 160.3ms\n",
            "image 95/451 /content/drive/MyDrive/Dataset- -Conference/test/images/V0093_130.png: 384x640 (no detections), 137.8ms\n",
            "image 96/451 /content/drive/MyDrive/Dataset- -Conference/test/images/V0093_140.png: 384x640 (no detections), 139.9ms\n",
            "image 97/451 /content/drive/MyDrive/Dataset- -Conference/test/images/V0093_150.png: 384x640 1 School, 156.6ms\n",
            "image 98/451 /content/drive/MyDrive/Dataset- -Conference/test/images/V0093_160.png: 384x640 1 School, 116.8ms\n",
            "image 99/451 /content/drive/MyDrive/Dataset- -Conference/test/images/V0093_180.png: 384x640 1 School, 120.1ms\n",
            "image 100/451 /content/drive/MyDrive/Dataset- -Conference/test/images/V0093_20.png: 384x640 (no detections), 141.7ms\n",
            "image 101/451 /content/drive/MyDrive/Dataset- -Conference/test/images/V0093_200.png: 384x640 (no detections), 123.7ms\n",
            "image 102/451 /content/drive/MyDrive/Dataset- -Conference/test/images/V0093_220.png: 384x640 (no detections), 118.7ms\n",
            "image 103/451 /content/drive/MyDrive/Dataset- -Conference/test/images/V0093_260.png: 384x640 (no detections), 139.9ms\n",
            "image 104/451 /content/drive/MyDrive/Dataset- -Conference/test/images/V0093_30.png: 384x640 (no detections), 226.8ms\n",
            "image 105/451 /content/drive/MyDrive/Dataset- -Conference/test/images/V0093_40.png: 384x640 (no detections), 206.5ms\n",
            "image 106/451 /content/drive/MyDrive/Dataset- -Conference/test/images/V0093_50.png: 384x640 (no detections), 194.8ms\n",
            "image 107/451 /content/drive/MyDrive/Dataset- -Conference/test/images/V0093_60.png: 384x640 (no detections), 126.7ms\n",
            "image 108/451 /content/drive/MyDrive/Dataset- -Conference/test/images/V0093_70.png: 384x640 (no detections), 118.2ms\n",
            "image 109/451 /content/drive/MyDrive/Dataset- -Conference/test/images/V0093_80.png: 384x640 (no detections), 143.4ms\n",
            "image 110/451 /content/drive/MyDrive/Dataset- -Conference/test/images/V0093_90.png: 384x640 (no detections), 125.3ms\n",
            "image 111/451 /content/drive/MyDrive/Dataset- -Conference/test/images/V0094_210.png: 384x640 (no detections), 135.6ms\n",
            "image 112/451 /content/drive/MyDrive/Dataset- -Conference/test/images/V0094_220.png: 384x640 1 School, 124.7ms\n",
            "image 113/451 /content/drive/MyDrive/Dataset- -Conference/test/images/V0094_240.png: 384x640 1 School, 136.4ms\n",
            "image 114/451 /content/drive/MyDrive/Dataset- -Conference/test/images/V0094_250.png: 384x640 1 School, 134.3ms\n",
            "image 115/451 /content/drive/MyDrive/Dataset- -Conference/test/images/V0096_0.png: 384x640 1 School, 139.4ms\n",
            "image 116/451 /content/drive/MyDrive/Dataset- -Conference/test/images/V0096_10.png: 384x640 1 School, 129.5ms\n",
            "image 117/451 /content/drive/MyDrive/Dataset- -Conference/test/images/V0096_20.png: 384x640 1 School, 142.3ms\n",
            "image 118/451 /content/drive/MyDrive/Dataset- -Conference/test/images/V0102_10.png: 384x640 (no detections), 174.4ms\n",
            "image 119/451 /content/drive/MyDrive/Dataset- -Conference/test/images/V0102_100.png: 384x640 1 School, 215.2ms\n",
            "image 120/451 /content/drive/MyDrive/Dataset- -Conference/test/images/V0102_120.png: 384x640 1 School, 216.7ms\n",
            "image 121/451 /content/drive/MyDrive/Dataset- -Conference/test/images/V0102_130.png: 384x640 (no detections), 208.9ms\n",
            "image 122/451 /content/drive/MyDrive/Dataset- -Conference/test/images/V0102_200.png: 384x640 (no detections), 204.5ms\n",
            "image 123/451 /content/drive/MyDrive/Dataset- -Conference/test/images/V0102_210.png: 384x640 (no detections), 194.9ms\n",
            "image 124/451 /content/drive/MyDrive/Dataset- -Conference/test/images/V0102_220.png: 384x640 (no detections), 198.4ms\n",
            "image 125/451 /content/drive/MyDrive/Dataset- -Conference/test/images/V0102_30.png: 384x640 (no detections), 255.3ms\n",
            "image 126/451 /content/drive/MyDrive/Dataset- -Conference/test/images/V0102_50.png: 384x640 1 School, 225.8ms\n",
            "image 127/451 /content/drive/MyDrive/Dataset- -Conference/test/images/V0102_70.png: 384x640 (no detections), 221.1ms\n",
            "image 128/451 /content/drive/MyDrive/Dataset- -Conference/test/images/V0102_90.png: 384x640 1 School, 231.2ms\n",
            "image 129/451 /content/drive/MyDrive/Dataset- -Conference/test/images/V0103_10.png: 384x640 1 School, 265.4ms\n",
            "image 130/451 /content/drive/MyDrive/Dataset- -Conference/test/images/V0103_110.png: 384x640 (no detections), 211.1ms\n",
            "image 131/451 /content/drive/MyDrive/Dataset- -Conference/test/images/V0103_130.png: 384x640 1 School, 193.8ms\n",
            "image 132/451 /content/drive/MyDrive/Dataset- -Conference/test/images/V0103_150.png: 384x640 1 School, 226.7ms\n",
            "image 133/451 /content/drive/MyDrive/Dataset- -Conference/test/images/V0103_170.png: 384x640 1 School, 254.3ms\n",
            "image 134/451 /content/drive/MyDrive/Dataset- -Conference/test/images/V0103_190.png: 384x640 (no detections), 233.6ms\n",
            "image 135/451 /content/drive/MyDrive/Dataset- -Conference/test/images/V0103_210.png: 384x640 (no detections), 201.8ms\n",
            "image 136/451 /content/drive/MyDrive/Dataset- -Conference/test/images/V0103_230.png: 384x640 1 SharpBendToTheLeft, 258.4ms\n",
            "image 137/451 /content/drive/MyDrive/Dataset- -Conference/test/images/V0103_250.png: 384x640 1 SharpBendToTheLeft, 266.3ms\n",
            "image 138/451 /content/drive/MyDrive/Dataset- -Conference/test/images/V0103_280.png: 384x640 1 SharpBendToTheLeft, 253.6ms\n",
            "image 139/451 /content/drive/MyDrive/Dataset- -Conference/test/images/V0103_30.png: 384x640 (no detections), 288.2ms\n",
            "image 140/451 /content/drive/MyDrive/Dataset- -Conference/test/images/V0103_300.png: 384x640 1 SharpBendToTheLeft, 136.1ms\n",
            "image 141/451 /content/drive/MyDrive/Dataset- -Conference/test/images/V0103_320.png: 384x640 1 SharpBendToTheLeft, 131.7ms\n",
            "image 142/451 /content/drive/MyDrive/Dataset- -Conference/test/images/V0103_340.png: 384x640 (no detections), 123.6ms\n",
            "image 143/451 /content/drive/MyDrive/Dataset- -Conference/test/images/V0103_360.png: 384x640 1 Crossroads, 131.5ms\n",
            "image 144/451 /content/drive/MyDrive/Dataset- -Conference/test/images/V0103_380.png: 384x640 1 NarrowBridge, 1 Crossroads, 161.6ms\n",
            "image 145/451 /content/drive/MyDrive/Dataset- -Conference/test/images/V0103_400.png: 384x640 1 NarrowBridge, 1 Crossroads, 125.4ms\n",
            "image 146/451 /content/drive/MyDrive/Dataset- -Conference/test/images/V0103_420.png: 384x640 1 NarrowBridge, 1 Crossroads, 134.9ms\n",
            "image 147/451 /content/drive/MyDrive/Dataset- -Conference/test/images/V0103_440.png: 384x640 1 NarrowBridge, 131.4ms\n",
            "image 148/451 /content/drive/MyDrive/Dataset- -Conference/test/images/V0103_50.png: 384x640 (no detections), 134.6ms\n",
            "image 149/451 /content/drive/MyDrive/Dataset- -Conference/test/images/V0103_70.png: 384x640 (no detections), 122.9ms\n",
            "image 150/451 /content/drive/MyDrive/Dataset- -Conference/test/images/V0103_90.png: 384x640 1 School, 138.7ms\n",
            "image 151/451 /content/drive/MyDrive/Dataset- -Conference/test/images/V0107_4330.png: 384x640 (no detections), 121.8ms\n",
            "image 152/451 /content/drive/MyDrive/Dataset- -Conference/test/images/V0107_4640.png: 384x640 (no detections), 127.7ms\n",
            "image 153/451 /content/drive/MyDrive/Dataset- -Conference/test/images/V0107_4650.png: 384x640 (no detections), 128.8ms\n",
            "image 154/451 /content/drive/MyDrive/Dataset- -Conference/test/images/V0107_4670.png: 384x640 (no detections), 127.3ms\n",
            "image 155/451 /content/drive/MyDrive/Dataset- -Conference/test/images/V0107_4700.png: 384x640 (no detections), 128.4ms\n",
            "image 156/451 /content/drive/MyDrive/Dataset- -Conference/test/images/V0107_4710.png: 384x640 1 School, 127.9ms\n",
            "image 157/451 /content/drive/MyDrive/Dataset- -Conference/test/images/V0107_4720.png: 384x640 (no detections), 136.9ms\n",
            "image 158/451 /content/drive/MyDrive/Dataset- -Conference/test/images/V0107_4730.png: 384x640 (no detections), 120.4ms\n",
            "image 159/451 /content/drive/MyDrive/Dataset- -Conference/test/images/V0107_4740.png: 384x640 (no detections), 120.8ms\n",
            "image 160/451 /content/drive/MyDrive/Dataset- -Conference/test/images/V0107_4760.png: 384x640 1 School, 122.7ms\n",
            "image 161/451 /content/drive/MyDrive/Dataset- -Conference/test/images/V0107_4780.png: 384x640 1 School, 132.9ms\n",
            "image 162/451 /content/drive/MyDrive/Dataset- -Conference/test/images/V0107_4800.png: 384x640 1 School, 128.6ms\n",
            "image 163/451 /content/drive/MyDrive/Dataset- -Conference/test/images/V0107_4820.png: 384x640 (no detections), 134.6ms\n",
            "image 164/451 /content/drive/MyDrive/Dataset- -Conference/test/images/V0111_10.png: 384x640 (no detections), 130.5ms\n",
            "image 165/451 /content/drive/MyDrive/Dataset- -Conference/test/images/V0111_20.png: 384x640 (no detections), 128.3ms\n",
            "image 166/451 /content/drive/MyDrive/Dataset- -Conference/test/images/V0111_30.png: 384x640 (no detections), 122.4ms\n",
            "image 167/451 /content/drive/MyDrive/Dataset- -Conference/test/images/V0111_40.png: 384x640 1 School, 138.1ms\n",
            "image 168/451 /content/drive/MyDrive/Dataset- -Conference/test/images/V0111_490.png: 384x640 (no detections), 127.1ms\n",
            "image 169/451 /content/drive/MyDrive/Dataset- -Conference/test/images/V0111_50.png: 384x640 (no detections), 132.2ms\n",
            "image 170/451 /content/drive/MyDrive/Dataset- -Conference/test/images/V0111_510.png: 384x640 (no detections), 127.5ms\n",
            "image 171/451 /content/drive/MyDrive/Dataset- -Conference/test/images/V0111_550.png: 384x640 (no detections), 134.3ms\n",
            "image 172/451 /content/drive/MyDrive/Dataset- -Conference/test/images/V0111_560.png: 384x640 (no detections), 122.9ms\n",
            "image 173/451 /content/drive/MyDrive/Dataset- -Conference/test/images/V0111_580.png: 384x640 (no detections), 138.8ms\n",
            "image 174/451 /content/drive/MyDrive/Dataset- -Conference/test/images/V0111_590.png: 384x640 (no detections), 141.6ms\n",
            "image 175/451 /content/drive/MyDrive/Dataset- -Conference/test/images/V0111_60.png: 384x640 1 SharpBendToTheLeft, 150.1ms\n",
            "image 176/451 /content/drive/MyDrive/Dataset- -Conference/test/images/V0111_600.png: 384x640 (no detections), 122.6ms\n",
            "image 177/451 /content/drive/MyDrive/Dataset- -Conference/test/images/V0111_610.png: 384x640 (no detections), 143.7ms\n",
            "image 178/451 /content/drive/MyDrive/Dataset- -Conference/test/images/V0111_620.png: 384x640 (no detections), 124.0ms\n",
            "image 179/451 /content/drive/MyDrive/Dataset- -Conference/test/images/V0111_630.png: 384x640 (no detections), 122.0ms\n",
            "image 180/451 /content/drive/MyDrive/Dataset- -Conference/test/images/V0111_640.png: 384x640 (no detections), 162.0ms\n",
            "image 181/451 /content/drive/MyDrive/Dataset- -Conference/test/images/V0111_650.png: 384x640 1 RoadHump, 193.3ms\n",
            "image 182/451 /content/drive/MyDrive/Dataset- -Conference/test/images/V0111_660.png: 384x640 (no detections), 187.3ms\n",
            "image 183/451 /content/drive/MyDrive/Dataset- -Conference/test/images/V0111_670.png: 384x640 1 RoadHump, 185.4ms\n",
            "image 184/451 /content/drive/MyDrive/Dataset- -Conference/test/images/V0111_680.png: 384x640 1 SharpBendToTheLeft, 1 RoadHump, 198.0ms\n",
            "image 185/451 /content/drive/MyDrive/Dataset- -Conference/test/images/V0111_690.png: 384x640 1 RoadHump, 190.5ms\n",
            "image 186/451 /content/drive/MyDrive/Dataset- -Conference/test/images/V0111_70.png: 384x640 1 School, 198.3ms\n",
            "image 187/451 /content/drive/MyDrive/Dataset- -Conference/test/images/V0111_80.png: 384x640 1 School, 1 Crossroads, 184.0ms\n",
            "image 188/451 /content/drive/MyDrive/Dataset- -Conference/test/images/V0112_140.png: 384x640 (no detections), 177.5ms\n",
            "image 189/451 /content/drive/MyDrive/Dataset- -Conference/test/images/V0112_150.png: 384x640 (no detections), 189.9ms\n",
            "image 190/451 /content/drive/MyDrive/Dataset- -Conference/test/images/V0112_160.png: 384x640 (no detections), 188.5ms\n",
            "image 191/451 /content/drive/MyDrive/Dataset- -Conference/test/images/V0112_170.png: 384x640 (no detections), 200.4ms\n",
            "image 192/451 /content/drive/MyDrive/Dataset- -Conference/test/images/V0112_180.png: 384x640 (no detections), 216.5ms\n",
            "image 193/451 /content/drive/MyDrive/Dataset- -Conference/test/images/V0112_190.png: 384x640 (no detections), 192.2ms\n",
            "image 194/451 /content/drive/MyDrive/Dataset- -Conference/test/images/V0112_210.png: 384x640 (no detections), 146.0ms\n",
            "image 195/451 /content/drive/MyDrive/Dataset- -Conference/test/images/V0112_220.png: 384x640 1 RoadHump, 120.5ms\n",
            "image 196/451 /content/drive/MyDrive/Dataset- -Conference/test/images/V0112_230.png: 384x640 (no detections), 125.3ms\n",
            "image 197/451 /content/drive/MyDrive/Dataset- -Conference/test/images/V0112_250.png: 384x640 (no detections), 123.6ms\n",
            "image 198/451 /content/drive/MyDrive/Dataset- -Conference/test/images/V0112_270.png: 384x640 (no detections), 123.5ms\n",
            "image 199/451 /content/drive/MyDrive/Dataset- -Conference/test/images/V0112_280.png: 384x640 (no detections), 132.2ms\n",
            "image 200/451 /content/drive/MyDrive/Dataset- -Conference/test/images/V0112_290.png: 384x640 (no detections), 124.4ms\n",
            "image 201/451 /content/drive/MyDrive/Dataset- -Conference/test/images/V0112_300.png: 384x640 (no detections), 134.4ms\n",
            "image 202/451 /content/drive/MyDrive/Dataset- -Conference/test/images/V0112_310.png: 384x640 (no detections), 143.8ms\n",
            "image 203/451 /content/drive/MyDrive/Dataset- -Conference/test/images/V0124_740.png: 384x640 (no detections), 137.8ms\n",
            "image 204/451 /content/drive/MyDrive/Dataset- -Conference/test/images/V0124_750.png: 384x640 1 speedlimit40kmh, 116.9ms\n",
            "image 205/451 /content/drive/MyDrive/Dataset- -Conference/test/images/V0124_760.png: 384x640 (no detections), 117.9ms\n",
            "image 206/451 /content/drive/MyDrive/Dataset- -Conference/test/images/V0124_770.png: 384x640 (no detections), 116.6ms\n",
            "image 207/451 /content/drive/MyDrive/Dataset- -Conference/test/images/V0124_780.png: 384x640 1 speedlimit80kmh, 134.2ms\n",
            "image 208/451 /content/drive/MyDrive/Dataset- -Conference/test/images/V0124_790.png: 384x640 1 speedlimit80kmh, 126.9ms\n",
            "image 209/451 /content/drive/MyDrive/Dataset- -Conference/test/images/V0125_1540.png: 640x384 1 SharpBendToTheLeft, 1 RoadHump, 120.1ms\n",
            "image 210/451 /content/drive/MyDrive/Dataset- -Conference/test/images/V0126_5440.png: 640x384 (no detections), 139.1ms\n",
            "image 211/451 /content/drive/MyDrive/Dataset- -Conference/test/images/V0141_0.png: 640x384 (no detections), 123.8ms\n",
            "image 212/451 /content/drive/MyDrive/Dataset- -Conference/test/images/V0141_215.png: 640x384 1 SpeedLimit60kmh, 127.6ms\n",
            "image 213/451 /content/drive/MyDrive/Dataset- -Conference/test/images/V0141_220.png: 640x384 1 SpeedLimit60kmh, 135.3ms\n",
            "image 214/451 /content/drive/MyDrive/Dataset- -Conference/test/images/V0141_225.png: 640x384 1 SpeedLimit60kmh, 123.4ms\n",
            "image 215/451 /content/drive/MyDrive/Dataset- -Conference/test/images/V0141_235.png: 640x384 1 SpeedLimit60kmh, 123.4ms\n",
            "image 216/451 /content/drive/MyDrive/Dataset- -Conference/test/images/V0141_245.png: 640x384 1 SpeedLimit60kmh, 176.9ms\n",
            "image 217/451 /content/drive/MyDrive/Dataset- -Conference/test/images/V0141_255.png: 640x384 1 SpeedLimit60kmh, 142.4ms\n",
            "image 218/451 /content/drive/MyDrive/Dataset- -Conference/test/images/V0141_265.png: 640x384 1 SpeedLimit60kmh, 124.2ms\n",
            "image 219/451 /content/drive/MyDrive/Dataset- -Conference/test/images/V0141_275.png: 640x384 1 SpeedLimit60kmh, 122.5ms\n",
            "image 220/451 /content/drive/MyDrive/Dataset- -Conference/test/images/V0141_285.png: 640x384 1 SpeedLimit60kmh, 134.1ms\n",
            "image 221/451 /content/drive/MyDrive/Dataset- -Conference/test/images/V0141_295.png: 640x384 1 SpeedLimit60kmh, 121.7ms\n",
            "image 222/451 /content/drive/MyDrive/Dataset- -Conference/test/images/V0141_350.png: 640x384 2 SpeedLimit60kmhs, 119.5ms\n",
            "image 223/451 /content/drive/MyDrive/Dataset- -Conference/test/images/V0143_0.png: 640x384 (no detections), 121.5ms\n",
            "image 224/451 /content/drive/MyDrive/Dataset- -Conference/test/images/V0143_130.png: 640x384 (no detections), 131.4ms\n",
            "image 225/451 /content/drive/MyDrive/Dataset- -Conference/test/images/V0143_260.png: 640x384 1 SpeedLimit60kmh, 131.2ms\n",
            "image 226/451 /content/drive/MyDrive/Dataset- -Conference/test/images/V0143_330.png: 640x384 1 SpeedLimit60kmh, 126.2ms\n",
            "image 227/451 /content/drive/MyDrive/Dataset- -Conference/test/images/V0143_340.png: 640x384 1 SpeedLimit60kmh, 131.2ms\n",
            "image 228/451 /content/drive/MyDrive/Dataset- -Conference/test/images/V0143_350.png: 640x384 1 SpeedLimit60kmh, 130.9ms\n",
            "image 229/451 /content/drive/MyDrive/Dataset- -Conference/test/images/V0143_360.png: 640x384 1 SpeedLimit60kmh, 126.3ms\n",
            "image 230/451 /content/drive/MyDrive/Dataset- -Conference/test/images/V0143_370.png: 640x384 1 SpeedLimit60kmh, 141.3ms\n",
            "image 231/451 /content/drive/MyDrive/Dataset- -Conference/test/images/V0143_380.png: 640x384 1 SpeedLimit60kmh, 117.6ms\n",
            "image 232/451 /content/drive/MyDrive/Dataset- -Conference/test/images/V0143_390.png: 640x384 1 SpeedLimit60kmh, 122.7ms\n",
            "image 233/451 /content/drive/MyDrive/Dataset- -Conference/test/images/V0143_400.png: 640x384 1 SpeedLimit60kmh, 1 speedlimit40kmh, 122.8ms\n",
            "image 234/451 /content/drive/MyDrive/Dataset- -Conference/test/images/V0143_410.png: 640x384 1 speedlimit40kmh, 133.7ms\n",
            "image 235/451 /content/drive/MyDrive/Dataset- -Conference/test/images/V0143_420.png: 640x384 1 SpeedLimit60kmh, 148.9ms\n",
            "image 236/451 /content/drive/MyDrive/Dataset- -Conference/test/images/V0143_430.png: 640x384 1 SpeedLimit60kmh, 1 speedlimit40kmh, 131.6ms\n",
            "image 237/451 /content/drive/MyDrive/Dataset- -Conference/test/images/V0143_440.png: 640x384 1 SpeedLimit60kmh, 132.1ms\n",
            "image 238/451 /content/drive/MyDrive/Dataset- -Conference/test/images/V0143_450.png: 640x384 1 SpeedLimit60kmh, 217.9ms\n",
            "image 239/451 /content/drive/MyDrive/Dataset- -Conference/test/images/V0143_460.png: 640x384 1 SpeedLimit60kmh, 208.3ms\n",
            "image 240/451 /content/drive/MyDrive/Dataset- -Conference/test/images/V0143_470.png: 640x384 1 SpeedLimit60kmh, 1 speedlimit40kmh, 249.3ms\n",
            "image 241/451 /content/drive/MyDrive/Dataset- -Conference/test/images/V0143_480.png: 640x384 1 speedlimit40kmh, 205.4ms\n",
            "image 242/451 /content/drive/MyDrive/Dataset- -Conference/test/images/V0143_490.png: 640x384 1 speedlimit40kmh, 218.4ms\n",
            "image 243/451 /content/drive/MyDrive/Dataset- -Conference/test/images/V0143_500.png: 640x384 1 speedlimit40kmh, 185.5ms\n",
            "image 244/451 /content/drive/MyDrive/Dataset- -Conference/test/images/V0146_2650.png: 640x384 (no detections), 188.5ms\n",
            "image 245/451 /content/drive/MyDrive/Dataset- -Conference/test/images/V0146_2670.png: 640x384 (no detections), 186.2ms\n",
            "image 246/451 /content/drive/MyDrive/Dataset- -Conference/test/images/V0146_2690.png: 640x384 1 SpeedLimit60kmh, 210.1ms\n",
            "image 247/451 /content/drive/MyDrive/Dataset- -Conference/test/images/V0146_2705.png: 640x384 1 SpeedLimit60kmh, 191.2ms\n",
            "image 248/451 /content/drive/MyDrive/Dataset- -Conference/test/images/V0146_2725.png: 640x384 1 SpeedLimit60kmh, 212.5ms\n",
            "image 249/451 /content/drive/MyDrive/Dataset- -Conference/test/images/V0146_2745.png: 640x384 (no detections), 208.9ms\n",
            "image 250/451 /content/drive/MyDrive/Dataset- -Conference/test/images/V0146_2765.png: 640x384 1 SpeedLimit60kmh, 195.3ms\n",
            "image 251/451 /content/drive/MyDrive/Dataset- -Conference/test/images/V0146_2785.png: 640x384 (no detections), 208.9ms\n",
            "image 252/451 /content/drive/MyDrive/Dataset- -Conference/test/images/V0146_2800.png: 640x384 1 SpeedLimit60kmh, 123.8ms\n",
            "image 253/451 /content/drive/MyDrive/Dataset- -Conference/test/images/V0146_2825.png: 640x384 1 speedlimit40kmh, 129.3ms\n",
            "image 254/451 /content/drive/MyDrive/Dataset- -Conference/test/images/V0146_2830.png: 640x384 (no detections), 128.3ms\n",
            "image 255/451 /content/drive/MyDrive/Dataset- -Conference/test/images/V0146_2845.png: 640x384 (no detections), 130.3ms\n",
            "image 256/451 /content/drive/MyDrive/Dataset- -Conference/test/images/V0146_2860.png: 640x384 (no detections), 126.1ms\n",
            "image 257/451 /content/drive/MyDrive/Dataset- -Conference/test/images/V0146_2875.png: 640x384 (no detections), 132.3ms\n",
            "image 258/451 /content/drive/MyDrive/Dataset- -Conference/test/images/V0146_2885.png: 640x384 1 speedlimit40kmh, 125.8ms\n",
            "image 259/451 /content/drive/MyDrive/Dataset- -Conference/test/images/V0146_2895.png: 640x384 1 speedlimit40kmh, 133.8ms\n",
            "image 260/451 /content/drive/MyDrive/Dataset- -Conference/test/images/V0146_3155.png: 640x384 (no detections), 135.5ms\n",
            "image 261/451 /content/drive/MyDrive/Dataset- -Conference/test/images/V0146_3240.png: 640x384 (no detections), 121.8ms\n",
            "image 262/451 /content/drive/MyDrive/Dataset- -Conference/test/images/V0146_3265.png: 640x384 1 SpeedLimit60kmh, 134.8ms\n",
            "image 263/451 /content/drive/MyDrive/Dataset- -Conference/test/images/V0146_3285.png: 640x384 1 SpeedLimit60kmh, 120.3ms\n",
            "image 264/451 /content/drive/MyDrive/Dataset- -Conference/test/images/V0146_3295.png: 640x384 1 SpeedLimit60kmh, 135.3ms\n",
            "image 265/451 /content/drive/MyDrive/Dataset- -Conference/test/images/V0146_3310.png: 640x384 1 SpeedLimit60kmh, 121.3ms\n",
            "image 266/451 /content/drive/MyDrive/Dataset- -Conference/test/images/V0146_3315.png: 640x384 1 SpeedLimit60kmh, 136.9ms\n",
            "image 267/451 /content/drive/MyDrive/Dataset- -Conference/test/images/V0146_3320.png: 640x384 1 SpeedLimit60kmh, 125.5ms\n",
            "image 268/451 /content/drive/MyDrive/Dataset- -Conference/test/images/V0146_3330.png: 640x384 1 SpeedLimit60kmh, 135.5ms\n",
            "image 269/451 /content/drive/MyDrive/Dataset- -Conference/test/images/V0146_3340.png: 640x384 1 speedlimit40kmh, 146.2ms\n",
            "image 270/451 /content/drive/MyDrive/Dataset- -Conference/test/images/V0146_3345.png: 640x384 1 SpeedLimit60kmh, 1 speedlimit40kmh, 121.8ms\n",
            "image 271/451 /content/drive/MyDrive/Dataset- -Conference/test/images/V0146_3355.png: 640x384 1 SpeedLimit60kmh, 1 speedlimit40kmh, 139.7ms\n",
            "image 272/451 /content/drive/MyDrive/Dataset- -Conference/test/images/V0146_3360.png: 640x384 1 speedlimit40kmh, 127.9ms\n",
            "image 273/451 /content/drive/MyDrive/Dataset- -Conference/test/images/V0146_3365.png: 640x384 1 speedlimit40kmh, 126.5ms\n",
            "image 274/451 /content/drive/MyDrive/Dataset- -Conference/test/images/V0146_3370.png: 640x384 1 speedlimit40kmh, 138.4ms\n",
            "image 275/451 /content/drive/MyDrive/Dataset- -Conference/test/images/V0146_3375.png: 640x384 1 speedlimit40kmh, 137.1ms\n",
            "image 276/451 /content/drive/MyDrive/Dataset- -Conference/test/images/V0146_3385.png: 640x384 1 SpeedLimit60kmh, 1 speedlimit40kmh, 126.3ms\n",
            "image 277/451 /content/drive/MyDrive/Dataset- -Conference/test/images/V0146_3390.png: 640x384 1 speedlimit40kmh, 126.3ms\n",
            "image 278/451 /content/drive/MyDrive/Dataset- -Conference/test/images/V0146_3395.png: 640x384 1 SpeedLimit60kmh, 126.6ms\n",
            "image 279/451 /content/drive/MyDrive/Dataset- -Conference/test/images/V0146_3400.png: 640x384 1 SpeedLimit60kmh, 1 speedlimit40kmh, 137.4ms\n",
            "image 280/451 /content/drive/MyDrive/Dataset- -Conference/test/images/V0146_3405.png: 640x384 1 SpeedLimit60kmh, 135.1ms\n",
            "image 281/451 /content/drive/MyDrive/Dataset- -Conference/test/images/V0146_3410.png: 640x384 1 SpeedLimit60kmh, 133.8ms\n",
            "image 282/451 /content/drive/MyDrive/Dataset- -Conference/test/images/V0152_120.png: 384x640 1 RoadHump, 148.3ms\n",
            "image 283/451 /content/drive/MyDrive/Dataset- -Conference/test/images/V0152_130.png: 384x640 1 speedlimit40kmh, 1 RoadHump, 130.7ms\n",
            "image 284/451 /content/drive/MyDrive/Dataset- -Conference/test/images/V0152_140.png: 384x640 1 speedlimit40kmh, 132.8ms\n",
            "image 285/451 /content/drive/MyDrive/Dataset- -Conference/test/images/V0152_150.png: 384x640 1 speedlimit40kmh, 1 RoadHump, 120.2ms\n",
            "image 286/451 /content/drive/MyDrive/Dataset- -Conference/test/images/V0152_160.png: 384x640 1 speedlimit40kmh, 1 RoadHump, 133.0ms\n",
            "image 287/451 /content/drive/MyDrive/Dataset- -Conference/test/images/V0152_170.png: 384x640 (no detections), 121.8ms\n",
            "image 288/451 /content/drive/MyDrive/Dataset- -Conference/test/images/V0152_190.png: 384x640 1 speedlimit40kmh, 128.4ms\n",
            "image 289/451 /content/drive/MyDrive/Dataset- -Conference/test/images/V0152_200.png: 384x640 1 speedlimit40kmh, 139.8ms\n",
            "image 290/451 /content/drive/MyDrive/Dataset- -Conference/test/images/V0152_210.png: 384x640 1 speedlimit40kmh, 122.0ms\n",
            "image 291/451 /content/drive/MyDrive/Dataset- -Conference/test/images/V0152_220.png: 384x640 (no detections), 127.2ms\n",
            "image 292/451 /content/drive/MyDrive/Dataset- -Conference/test/images/V0152_230.png: 384x640 (no detections), 122.1ms\n",
            "image 293/451 /content/drive/MyDrive/Dataset- -Conference/test/images/V0152_240.png: 384x640 (no detections), 135.3ms\n",
            "image 294/451 /content/drive/MyDrive/Dataset- -Conference/test/images/V0152_250.png: 384x640 (no detections), 121.9ms\n",
            "image 295/451 /content/drive/MyDrive/Dataset- -Conference/test/images/V0152_350.png: 384x640 (no detections), 192.4ms\n",
            "image 296/451 /content/drive/MyDrive/Dataset- -Conference/test/images/V0152_360.png: 384x640 1 School, 187.8ms\n",
            "image 297/451 /content/drive/MyDrive/Dataset- -Conference/test/images/V0152_410.png: 384x640 1 School, 192.7ms\n",
            "image 298/451 /content/drive/MyDrive/Dataset- -Conference/test/images/V0152_430.png: 384x640 1 School, 196.3ms\n",
            "image 299/451 /content/drive/MyDrive/Dataset- -Conference/test/images/V0152_460.png: 384x640 1 School, 198.7ms\n",
            "image 300/451 /content/drive/MyDrive/Dataset- -Conference/test/images/V0152_490.png: 384x640 1 School, 196.4ms\n",
            "image 301/451 /content/drive/MyDrive/Dataset- -Conference/test/images/V0152_520.png: 384x640 1 School, 193.8ms\n",
            "image 302/451 /content/drive/MyDrive/Dataset- -Conference/test/images/V0152_550.png: 384x640 1 School, 191.0ms\n",
            "image 303/451 /content/drive/MyDrive/Dataset- -Conference/test/images/V0152_570.png: 384x640 1 School, 184.0ms\n",
            "image 304/451 /content/drive/MyDrive/Dataset- -Conference/test/images/V0166_5160.png: 384x640 (no detections), 184.6ms\n",
            "image 305/451 /content/drive/MyDrive/Dataset- -Conference/test/images/V0166_5170.png: 384x640 (no detections), 207.9ms\n",
            "image 306/451 /content/drive/MyDrive/Dataset- -Conference/test/images/V0166_5180.png: 384x640 (no detections), 201.6ms\n",
            "image 307/451 /content/drive/MyDrive/Dataset- -Conference/test/images/V0166_5190.png: 384x640 (no detections), 125.0ms\n",
            "image 308/451 /content/drive/MyDrive/Dataset- -Conference/test/images/V0166_5200.png: 384x640 (no detections), 134.2ms\n",
            "image 309/451 /content/drive/MyDrive/Dataset- -Conference/test/images/V0166_5210.png: 384x640 (no detections), 122.1ms\n",
            "image 310/451 /content/drive/MyDrive/Dataset- -Conference/test/images/V0166_5220.png: 384x640 1 SharpBendToTheRight, 121.1ms\n",
            "image 311/451 /content/drive/MyDrive/Dataset- -Conference/test/images/V0166_5230.png: 384x640 1 SharpBendToTheRight, 122.5ms\n",
            "image 312/451 /content/drive/MyDrive/Dataset- -Conference/test/images/V0167_13350.png: 384x640 (no detections), 124.5ms\n",
            "image 313/451 /content/drive/MyDrive/Dataset- -Conference/test/images/V0167_13390.png: 384x640 (no detections), 118.8ms\n",
            "image 314/451 /content/drive/MyDrive/Dataset- -Conference/test/images/V0167_13400.png: 384x640 (no detections), 127.7ms\n",
            "image 315/451 /content/drive/MyDrive/Dataset- -Conference/test/images/V0167_13410.png: 384x640 (no detections), 133.5ms\n",
            "image 316/451 /content/drive/MyDrive/Dataset- -Conference/test/images/V0167_13420.png: 384x640 (no detections), 132.9ms\n",
            "image 317/451 /content/drive/MyDrive/Dataset- -Conference/test/images/V0167_13430.png: 384x640 (no detections), 117.5ms\n",
            "image 318/451 /content/drive/MyDrive/Dataset- -Conference/test/images/V0167_13440.png: 384x640 (no detections), 118.6ms\n",
            "image 319/451 /content/drive/MyDrive/Dataset- -Conference/test/images/V0167_13450.png: 384x640 (no detections), 121.7ms\n",
            "image 320/451 /content/drive/MyDrive/Dataset- -Conference/test/images/V0167_13460.png: 384x640 (no detections), 134.2ms\n",
            "image 321/451 /content/drive/MyDrive/Dataset- -Conference/test/images/V0167_13470.png: 384x640 (no detections), 127.4ms\n",
            "image 322/451 /content/drive/MyDrive/Dataset- -Conference/test/images/V0167_13480.png: 384x640 (no detections), 121.5ms\n",
            "image 323/451 /content/drive/MyDrive/Dataset- -Conference/test/images/V0167_13490.png: 384x640 (no detections), 137.9ms\n",
            "image 324/451 /content/drive/MyDrive/Dataset- -Conference/test/images/V0167_5940.png: 384x640 1 speedlimit80kmh, 117.8ms\n",
            "image 325/451 /content/drive/MyDrive/Dataset- -Conference/test/images/V0167_5950.png: 384x640 1 speedlimit80kmh, 153.4ms\n",
            "image 326/451 /content/drive/MyDrive/Dataset- -Conference/test/images/V0167_5960.png: 384x640 (no detections), 206.0ms\n",
            "image 327/451 /content/drive/MyDrive/Dataset- -Conference/test/images/V0168_1000.png: 384x640 (no detections), 208.4ms\n",
            "image 328/451 /content/drive/MyDrive/Dataset- -Conference/test/images/V0168_1020.png: 384x640 (no detections), 118.7ms\n",
            "image 329/451 /content/drive/MyDrive/Dataset- -Conference/test/images/V0168_1040.png: 384x640 (no detections), 122.9ms\n",
            "image 330/451 /content/drive/MyDrive/Dataset- -Conference/test/images/V0168_1050.png: 384x640 (no detections), 134.0ms\n",
            "image 331/451 /content/drive/MyDrive/Dataset- -Conference/test/images/V0168_980.png: 384x640 (no detections), 119.6ms\n",
            "image 332/451 /content/drive/MyDrive/Dataset- -Conference/test/images/V0170_560.png: 384x640 (no detections), 118.0ms\n",
            "image 333/451 /content/drive/MyDrive/Dataset- -Conference/test/images/V0170_570.png: 384x640 (no detections), 117.4ms\n",
            "image 334/451 /content/drive/MyDrive/Dataset- -Conference/test/images/V0170_580.png: 384x640 (no detections), 117.5ms\n",
            "image 335/451 /content/drive/MyDrive/Dataset- -Conference/test/images/V0171_2110.png: 384x640 (no detections), 132.6ms\n",
            "image 336/451 /content/drive/MyDrive/Dataset- -Conference/test/images/V0171_2140.png: 384x640 (no detections), 192.6ms\n",
            "image 337/451 /content/drive/MyDrive/Dataset- -Conference/test/images/V0171_2160.png: 384x640 (no detections), 192.5ms\n",
            "image 338/451 /content/drive/MyDrive/Dataset- -Conference/test/images/V0171_2170.png: 384x640 (no detections), 181.4ms\n",
            "image 339/451 /content/drive/MyDrive/Dataset- -Conference/test/images/V0171_6700.png: 384x640 (no detections), 198.1ms\n",
            "image 340/451 /content/drive/MyDrive/Dataset- -Conference/test/images/V0171_6710.png: 384x640 (no detections), 194.2ms\n",
            "image 341/451 /content/drive/MyDrive/Dataset- -Conference/test/images/V0171_6720.png: 384x640 (no detections), 186.3ms\n",
            "image 342/451 /content/drive/MyDrive/Dataset- -Conference/test/images/V0171_6730.png: 384x640 (no detections), 192.8ms\n",
            "image 343/451 /content/drive/MyDrive/Dataset- -Conference/test/images/V0171_6740.png: 384x640 (no detections), 201.9ms\n",
            "image 344/451 /content/drive/MyDrive/Dataset- -Conference/test/images/V0171_6750.png: 384x640 (no detections), 117.3ms\n",
            "image 345/451 /content/drive/MyDrive/Dataset- -Conference/test/images/V0171_6760.png: 384x640 (no detections), 124.3ms\n",
            "image 346/451 /content/drive/MyDrive/Dataset- -Conference/test/images/V0171_6770.png: 384x640 (no detections), 117.7ms\n",
            "image 347/451 /content/drive/MyDrive/Dataset- -Conference/test/images/V0171_6780.png: 384x640 1 speedlimit40kmh, 126.5ms\n",
            "image 348/451 /content/drive/MyDrive/Dataset- -Conference/test/images/V0171_6900.png: 384x640 (no detections), 122.3ms\n",
            "image 349/451 /content/drive/MyDrive/Dataset- -Conference/test/images/V0171_6920.png: 384x640 (no detections), 124.1ms\n",
            "image 350/451 /content/drive/MyDrive/Dataset- -Conference/test/images/V0171_6940.png: 384x640 (no detections), 118.6ms\n",
            "image 351/451 /content/drive/MyDrive/Dataset- -Conference/test/images/V0171_6950.png: 384x640 (no detections), 134.5ms\n",
            "image 352/451 /content/drive/MyDrive/Dataset- -Conference/test/images/V0171_6970.png: 384x640 (no detections), 122.7ms\n",
            "image 353/451 /content/drive/MyDrive/Dataset- -Conference/test/images/V0171_6990.png: 384x640 (no detections), 119.5ms\n",
            "image 354/451 /content/drive/MyDrive/Dataset- -Conference/test/images/V0171_7000.png: 384x640 (no detections), 131.2ms\n",
            "image 355/451 /content/drive/MyDrive/Dataset- -Conference/test/images/V0171_7010.png: 384x640 (no detections), 122.1ms\n",
            "image 356/451 /content/drive/MyDrive/Dataset- -Conference/test/images/V0171_7020.png: 384x640 1 speedlimit80kmh, 124.2ms\n",
            "image 357/451 /content/drive/MyDrive/Dataset- -Conference/test/images/V0171_7460.png: 384x640 (no detections), 116.4ms\n",
            "image 358/451 /content/drive/MyDrive/Dataset- -Conference/test/images/V0171_7470.png: 384x640 (no detections), 140.6ms\n",
            "image 359/451 /content/drive/MyDrive/Dataset- -Conference/test/images/V0171_7480.png: 384x640 (no detections), 121.9ms\n",
            "image 360/451 /content/drive/MyDrive/Dataset- -Conference/test/images/V0171_7500.png: 384x640 (no detections), 124.3ms\n",
            "image 361/451 /content/drive/MyDrive/Dataset- -Conference/test/images/V0171_7510.png: 384x640 (no detections), 121.2ms\n",
            "image 362/451 /content/drive/MyDrive/Dataset- -Conference/test/images/V0171_7520.png: 384x640 1 SharpBendToTheLeft, 127.3ms\n",
            "image 363/451 /content/drive/MyDrive/Dataset- -Conference/test/images/V0171_7530.png: 384x640 1 RoadHump, 124.1ms\n",
            "image 364/451 /content/drive/MyDrive/Dataset- -Conference/test/images/V0171_860.png: 384x640 (no detections), 124.7ms\n",
            "image 365/451 /content/drive/MyDrive/Dataset- -Conference/test/images/V0171_890.png: 384x640 (no detections), 131.0ms\n",
            "image 366/451 /content/drive/MyDrive/Dataset- -Conference/test/images/V0171_930.png: 384x640 (no detections), 126.4ms\n",
            "image 367/451 /content/drive/MyDrive/Dataset- -Conference/test/images/V0173_4090.png: 384x640 (no detections), 120.2ms\n",
            "image 368/451 /content/drive/MyDrive/Dataset- -Conference/test/images/V0173_4130.png: 384x640 (no detections), 124.2ms\n",
            "image 369/451 /content/drive/MyDrive/Dataset- -Conference/test/images/V0173_4150.png: 384x640 (no detections), 122.5ms\n",
            "image 370/451 /content/drive/MyDrive/Dataset- -Conference/test/images/V0173_4160.png: 384x640 (no detections), 119.0ms\n",
            "image 371/451 /content/drive/MyDrive/Dataset- -Conference/test/images/V0173_4170.png: 384x640 (no detections), 118.0ms\n",
            "image 372/451 /content/drive/MyDrive/Dataset- -Conference/test/images/V0175_3590.png: 384x640 (no detections), 137.6ms\n",
            "image 373/451 /content/drive/MyDrive/Dataset- -Conference/test/images/V0175_3830.png: 384x640 (no detections), 122.9ms\n",
            "image 374/451 /content/drive/MyDrive/Dataset- -Conference/test/images/V0175_3840.png: 384x640 (no detections), 129.1ms\n",
            "image 375/451 /content/drive/MyDrive/Dataset- -Conference/test/images/V0181_18710.png: 384x640 (no detections), 142.2ms\n",
            "image 376/451 /content/drive/MyDrive/Dataset- -Conference/test/images/V0181_18720.png: 384x640 (no detections), 119.1ms\n",
            "image 377/451 /content/drive/MyDrive/Dataset- -Conference/test/images/V0181_18730.png: 384x640 (no detections), 145.7ms\n",
            "image 378/451 /content/drive/MyDrive/Dataset- -Conference/test/images/V0181_18740.png: 384x640 1 SharpBendToTheLeft, 1 SharpBendToTheRight, 202.8ms\n",
            "image 379/451 /content/drive/MyDrive/Dataset- -Conference/test/images/V0181_18750.png: 384x640 1 SharpBendToTheLeft, 183.7ms\n",
            "image 380/451 /content/drive/MyDrive/Dataset- -Conference/test/images/V0181_18760.png: 384x640 1 SharpBendToTheLeft, 178.6ms\n",
            "image 381/451 /content/drive/MyDrive/Dataset- -Conference/test/images/V0181_1920.png: 384x640 1 SharpBendToTheRight, 217.6ms\n",
            "image 382/451 /content/drive/MyDrive/Dataset- -Conference/test/images/V0181_1930.png: 384x640 1 SharpBendToTheRight, 188.3ms\n",
            "image 383/451 /content/drive/MyDrive/Dataset- -Conference/test/images/V0181_1940.png: 384x640 (no detections), 209.8ms\n",
            "image 384/451 /content/drive/MyDrive/Dataset- -Conference/test/images/V0181_1950.png: 384x640 1 speedlimit40kmh, 188.2ms\n",
            "image 385/451 /content/drive/MyDrive/Dataset- -Conference/test/images/V0181_1960.png: 384x640 1 SpeedLimit60kmh, 186.1ms\n",
            "image 386/451 /content/drive/MyDrive/Dataset- -Conference/test/images/V0181_1970.png: 384x640 1 speedlimit40kmh, 213.6ms\n",
            "image 387/451 /content/drive/MyDrive/Dataset- -Conference/test/images/V0181_1980.png: 384x640 1 speedlimit40kmh, 200.2ms\n",
            "image 388/451 /content/drive/MyDrive/Dataset- -Conference/test/images/V0181_20920.png: 384x640 (no detections), 137.7ms\n",
            "image 389/451 /content/drive/MyDrive/Dataset- -Conference/test/images/V0181_20930.png: 384x640 1 speedlimit40kmh, 136.1ms\n",
            "image 390/451 /content/drive/MyDrive/Dataset- -Conference/test/images/V0181_20940.png: 384x640 (no detections), 114.4ms\n",
            "image 391/451 /content/drive/MyDrive/Dataset- -Conference/test/images/V0181_2230.png: 384x640 (no detections), 120.8ms\n",
            "image 392/451 /content/drive/MyDrive/Dataset- -Conference/test/images/V0181_2240.png: 384x640 (no detections), 125.8ms\n",
            "image 393/451 /content/drive/MyDrive/Dataset- -Conference/test/images/V0181_2260.png: 384x640 (no detections), 124.5ms\n",
            "image 394/451 /content/drive/MyDrive/Dataset- -Conference/test/images/V0181_2270.png: 384x640 (no detections), 118.0ms\n",
            "image 395/451 /content/drive/MyDrive/Dataset- -Conference/test/images/V0181_41130.png: 384x640 (no detections), 124.8ms\n",
            "image 396/451 /content/drive/MyDrive/Dataset- -Conference/test/images/V0181_41140.png: 384x640 (no detections), 123.9ms\n",
            "image 397/451 /content/drive/MyDrive/Dataset- -Conference/test/images/V0181_41150.png: 384x640 (no detections), 127.2ms\n",
            "image 398/451 /content/drive/MyDrive/Dataset- -Conference/test/images/V0181_41160.png: 384x640 1 SharpBendToTheRight, 132.1ms\n",
            "image 399/451 /content/drive/MyDrive/Dataset- -Conference/test/images/V0181_41170.png: 384x640 1 SharpBendToTheLeft, 1 SharpBendToTheRight, 121.6ms\n",
            "image 400/451 /content/drive/MyDrive/Dataset- -Conference/test/images/V0181_42020.png: 384x640 (no detections), 127.5ms\n",
            "image 401/451 /content/drive/MyDrive/Dataset- -Conference/test/images/V0181_42030.png: 384x640 1 speedlimit80kmh, 125.5ms\n",
            "image 402/451 /content/drive/MyDrive/Dataset- -Conference/test/images/V0181_42040.png: 384x640 1 speedlimit80kmh, 120.2ms\n",
            "image 403/451 /content/drive/MyDrive/Dataset- -Conference/test/images/V0181_4290.png: 384x640 (no detections), 120.4ms\n",
            "image 404/451 /content/drive/MyDrive/Dataset- -Conference/test/images/V0181_4300.png: 384x640 (no detections), 120.1ms\n",
            "image 405/451 /content/drive/MyDrive/Dataset- -Conference/test/images/V0181_4310.png: 384x640 (no detections), 123.0ms\n",
            "image 406/451 /content/drive/MyDrive/Dataset- -Conference/test/images/V0181_4320.png: 384x640 (no detections), 130.8ms\n",
            "image 407/451 /content/drive/MyDrive/Dataset- -Conference/test/images/V0181_43200.png: 384x640 (no detections), 126.5ms\n",
            "image 408/451 /content/drive/MyDrive/Dataset- -Conference/test/images/V0181_43210.png: 384x640 (no detections), 118.6ms\n",
            "image 409/451 /content/drive/MyDrive/Dataset- -Conference/test/images/V0181_43220.png: 384x640 1 speedlimit80kmh, 124.1ms\n",
            "image 410/451 /content/drive/MyDrive/Dataset- -Conference/test/images/V0181_43230.png: 384x640 1 speedlimit80kmh, 124.9ms\n",
            "image 411/451 /content/drive/MyDrive/Dataset- -Conference/test/images/V0181_43240.png: 384x640 1 speedlimit80kmh, 116.2ms\n",
            "image 412/451 /content/drive/MyDrive/Dataset- -Conference/test/images/V0181_4330.png: 384x640 1 speedlimit40kmh, 117.5ms\n",
            "image 413/451 /content/drive/MyDrive/Dataset- -Conference/test/images/V0181_44940.png: 384x640 1 speedlimit80kmh, 112.4ms\n",
            "image 414/451 /content/drive/MyDrive/Dataset- -Conference/test/images/V0181_44950.png: 384x640 1 speedlimit80kmh, 117.1ms\n",
            "image 415/451 /content/drive/MyDrive/Dataset- -Conference/test/images/V0181_45650.png: 384x640 (no detections), 120.6ms\n",
            "image 416/451 /content/drive/MyDrive/Dataset- -Conference/test/images/V0181_45660.png: 384x640 (no detections), 125.3ms\n",
            "image 417/451 /content/drive/MyDrive/Dataset- -Conference/test/images/V0181_45670.png: 384x640 1 speedlimit80kmh, 121.1ms\n",
            "image 418/451 /content/drive/MyDrive/Dataset- -Conference/test/images/V0181_45680.png: 384x640 1 speedlimit80kmh, 114.3ms\n",
            "image 419/451 /content/drive/MyDrive/Dataset- -Conference/test/images/V0181_47520.png: 384x640 (no detections), 131.8ms\n",
            "image 420/451 /content/drive/MyDrive/Dataset- -Conference/test/images/V0181_47530.png: 384x640 (no detections), 118.7ms\n",
            "image 421/451 /content/drive/MyDrive/Dataset- -Conference/test/images/V0181_47540.png: 384x640 1 speedlimit80kmh, 196.2ms\n",
            "image 422/451 /content/drive/MyDrive/Dataset- -Conference/test/images/V0181_47550.png: 384x640 1 speedlimit80kmh, 218.4ms\n",
            "image 423/451 /content/drive/MyDrive/Dataset- -Conference/test/images/V0181_47560.png: 384x640 (no detections), 193.4ms\n",
            "image 424/451 /content/drive/MyDrive/Dataset- -Conference/test/images/V0181_4820.png: 384x640 (no detections), 180.4ms\n",
            "image 425/451 /content/drive/MyDrive/Dataset- -Conference/test/images/V0181_48260.png: 384x640 (no detections), 505.1ms\n",
            "image 426/451 /content/drive/MyDrive/Dataset- -Conference/test/images/V0181_48270.png: 384x640 1 speedlimit80kmh, 186.1ms\n",
            "image 427/451 /content/drive/MyDrive/Dataset- -Conference/test/images/V0181_48280.png: 384x640 1 speedlimit80kmh, 200.5ms\n",
            "image 428/451 /content/drive/MyDrive/Dataset- -Conference/test/images/V0181_4830.png: 384x640 (no detections), 185.4ms\n",
            "image 429/451 /content/drive/MyDrive/Dataset- -Conference/test/images/V0181_4840.png: 384x640 (no detections), 194.0ms\n",
            "image 430/451 /content/drive/MyDrive/Dataset- -Conference/test/images/V0181_4850.png: 384x640 1 SharpBendToTheRight, 131.2ms\n",
            "image 431/451 /content/drive/MyDrive/Dataset- -Conference/test/images/V0181_4860.png: 384x640 (no detections), 121.6ms\n",
            "image 432/451 /content/drive/MyDrive/Dataset- -Conference/test/images/V0181_4870.png: 384x640 1 RoadHump, 137.5ms\n",
            "image 433/451 /content/drive/MyDrive/Dataset- -Conference/test/images/V0181_49090.png: 384x640 1 speedlimit80kmh, 119.7ms\n",
            "image 434/451 /content/drive/MyDrive/Dataset- -Conference/test/images/V0181_49100.png: 384x640 1 speedlimit80kmh, 120.4ms\n",
            "image 435/451 /content/drive/MyDrive/Dataset- -Conference/test/images/V0181_49110.png: 384x640 1 SharpBendToTheLeft, 1 speedlimit80kmh, 130.2ms\n",
            "image 436/451 /content/drive/MyDrive/Dataset- -Conference/test/images/V0181_49750.png: 384x640 (no detections), 118.5ms\n",
            "image 437/451 /content/drive/MyDrive/Dataset- -Conference/test/images/V0181_49760.png: 384x640 (no detections), 123.6ms\n",
            "image 438/451 /content/drive/MyDrive/Dataset- -Conference/test/images/V0181_49770.png: 384x640 (no detections), 119.3ms\n",
            "image 439/451 /content/drive/MyDrive/Dataset- -Conference/test/images/V0181_49780.png: 384x640 1 speedlimit80kmh, 122.6ms\n",
            "image 440/451 /content/drive/MyDrive/Dataset- -Conference/test/images/V0181_9590.png: 384x640 (no detections), 121.5ms\n",
            "image 441/451 /content/drive/MyDrive/Dataset- -Conference/test/images/V0181_9600.png: 384x640 (no detections), 119.6ms\n",
            "image 442/451 /content/drive/MyDrive/Dataset- -Conference/test/images/V0181_9610.png: 384x640 (no detections), 122.1ms\n",
            "image 443/451 /content/drive/MyDrive/Dataset- -Conference/test/images/V0181_9620.png: 384x640 (no detections), 120.4ms\n",
            "image 444/451 /content/drive/MyDrive/Dataset- -Conference/test/images/V0181_9630.png: 384x640 (no detections), 123.6ms\n",
            "image 445/451 /content/drive/MyDrive/Dataset- -Conference/test/images/V0181_9640.png: 384x640 1 SharpBendToTheRight, 132.8ms\n",
            "image 446/451 /content/drive/MyDrive/Dataset- -Conference/test/images/V0181_9650.png: 384x640 (no detections), 124.2ms\n",
            "image 447/451 /content/drive/MyDrive/Dataset- -Conference/test/images/V0181_9660.png: 384x640 1 SharpBendToTheRight, 121.7ms\n",
            "image 448/451 /content/drive/MyDrive/Dataset- -Conference/test/images/V0181_9670.png: 384x640 1 SharpBendToTheRight, 117.6ms\n",
            "image 449/451 /content/drive/MyDrive/Dataset- -Conference/test/images/V0181_9680.png: 384x640 1 SharpBendToTheLeft, 1 SharpBendToTheRight, 127.0ms\n",
            "image 450/451 /content/drive/MyDrive/Dataset- -Conference/test/images/V0181_9690.png: 384x640 1 SharpBendToTheLeft, 123.3ms\n",
            "image 451/451 /content/drive/MyDrive/Dataset- -Conference/test/images/V0181_9700.png: 384x640 (no detections), 118.9ms\n",
            "Speed: 2.9ms preprocess, 152.4ms inference, 0.9ms postprocess per image at shape (1, 3, 384, 640)\n",
            "Results saved to \u001b[1mruns/detect/predict2\u001b[0m\n",
            "💡 Learn more at https://docs.ultralytics.com/modes/predict\n"
          ]
        }
      ]
    },
    {
      "cell_type": "code",
      "source": [
        "# Define paths\n",
        "import shutil\n",
        "source_folder = '/content/runs'\n",
        "destination_folder = '/content/drive/MyDrive/Dataset- -Conference/results/runs'  # Path to the destination folder\n",
        "# Copy the folder and its contents to the destination\n",
        "shutil.copytree(source_folder, destination_folder)"
      ],
      "metadata": {
        "colab": {
          "base_uri": "https://localhost:8080/",
          "height": 35
        },
        "id": "7WUqc6O28j9y",
        "outputId": "67847350-da32-431e-bc82-ad98379f7890"
      },
      "execution_count": 29,
      "outputs": [
        {
          "output_type": "execute_result",
          "data": {
            "text/plain": [
              "'/content/drive/MyDrive/Dataset- -Conference/results/runs'"
            ],
            "application/vnd.google.colaboratory.intrinsic+json": {
              "type": "string"
            }
          },
          "metadata": {},
          "execution_count": 29
        }
      ]
    }
  ],
  "metadata": {
    "accelerator": "GPU",
    "colab": {
      "gpuType": "T4",
      "provenance": [],
      "include_colab_link": true
    },
    "kernelspec": {
      "display_name": "Python 3",
      "name": "python3"
    },
    "language_info": {
      "name": "python"
    }
  },
  "nbformat": 4,
  "nbformat_minor": 0
}